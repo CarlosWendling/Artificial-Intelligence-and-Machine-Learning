{
  "nbformat": 4,
  "nbformat_minor": 0,
  "metadata": {
    "colab": {
      "provenance": []
    },
    "kernelspec": {
      "name": "python3",
      "display_name": "Python 3"
    },
    "language_info": {
      "name": "python"
    }
  },
  "cells": [
    {
      "cell_type": "code",
      "execution_count": null,
      "metadata": {
        "id": "K60jZcvu-_kj"
      },
      "outputs": [],
      "source": [
        "!pip install lime\n",
        "!pip install interpret\n",
        "!pip install eli5\n",
        "!pip install shap"
      ]
    },
    {
      "cell_type": "code",
      "source": [
        "!pip install scikit-learn==1.2.2"
      ],
      "metadata": {
        "id": "GThfm5hmBSoT"
      },
      "execution_count": null,
      "outputs": []
    },
    {
      "cell_type": "code",
      "source": [
        "import pandas as pd\n",
        "from sklearn.model_selection import train_test_split\n",
        "from sklearn.preprocessing import LabelEncoder\n",
        "from sklearn.ensemble import RandomForestClassifier\n",
        "import IPython\n",
        "import numpy as np\n",
        "import eli5\n",
        "from eli5 import show_prediction\n",
        "import shap\n",
        "import lime.lime_tabular\n",
        "from interpret import set_visualize_provider\n",
        "from interpret.provider import InlineProvider\n",
        "from interpret.glassbox import ExplainableBoostingClassifier\n",
        "from interpret import show"
      ],
      "metadata": {
        "id": "wRPpxvdF_8qX"
      },
      "execution_count": null,
      "outputs": []
    },
    {
      "cell_type": "code",
      "source": [
        "credito = pd.read_csv('Credit.csv')"
      ],
      "metadata": {
        "id": "Ub0nujRmA-vH"
      },
      "execution_count": null,
      "outputs": []
    },
    {
      "cell_type": "code",
      "source": [
        "credito.shape"
      ],
      "metadata": {
        "id": "a9TSUC-UB-pM"
      },
      "execution_count": null,
      "outputs": []
    },
    {
      "cell_type": "code",
      "source": [
        "credito.head()"
      ],
      "metadata": {
        "id": "hq-P61enCBEe"
      },
      "execution_count": null,
      "outputs": []
    },
    {
      "cell_type": "code",
      "source": [
        "previsores = credito.iloc[:, :-1].values\n",
        "classe = credito.iloc[:, -1].values"
      ],
      "metadata": {
        "id": "DTdonCTjCFln"
      },
      "execution_count": null,
      "outputs": []
    },
    {
      "cell_type": "code",
      "source": [
        "labelEncoder = LabelEncoder()\n",
        "\n",
        "for i in range(previsores.shape[1]):\n",
        "  if previsores[:, i].dtype == \"object\":\n",
        "    previsores[:, i] = labelEncoder.fit_transform(previsores[:, i])"
      ],
      "metadata": {
        "id": "XAuYc1XbCYda"
      },
      "execution_count": null,
      "outputs": []
    },
    {
      "cell_type": "code",
      "source": [
        "classe = labelEncoder.fit_transform(classe)"
      ],
      "metadata": {
        "id": "BWPGkUEkDG2w"
      },
      "execution_count": null,
      "outputs": []
    },
    {
      "cell_type": "code",
      "source": [
        "X_treino, X_teste, y_treino, y_teste = train_test_split(previsores, classe, test_size=0.3)"
      ],
      "metadata": {
        "id": "R4OU44c7Dcpk"
      },
      "execution_count": null,
      "outputs": []
    },
    {
      "cell_type": "code",
      "source": [
        "modelo = RandomForestClassifier(n_estimators = 1000)\n",
        "modelo.fit(X_treino, y_treino)"
      ],
      "metadata": {
        "id": "hXw63raNDTPA"
      },
      "execution_count": null,
      "outputs": []
    },
    {
      "cell_type": "code",
      "source": [
        "# LIME -> é agnóstico\n",
        "expl = lime.lime_tabular.LimeTabularExplainer(X_treino, feature_names = list(credito)[0:20], class_names=\"class\")\n",
        "prever = lambda x: modelo.predict_proba(x).astype(float)\n",
        "\n",
        "exp = expl.explain_instance(X_teste[0], prever, num_features=5)\n",
        "exp.show_in_notebook(show_all=True)"
      ],
      "metadata": {
        "id": "eDXClQ3OEmGb"
      },
      "execution_count": null,
      "outputs": []
    },
    {
      "cell_type": "code",
      "source": [
        "# ELI5 -> pode ser tanto global quanto local\n",
        "eli5.show_weights(modelo, feature_names = list(credito)[0:20]) # FORMA GLOBAL"
      ],
      "metadata": {
        "id": "iOQ3F7gGGrwU"
      },
      "execution_count": null,
      "outputs": []
    },
    {
      "cell_type": "code",
      "source": [
        "previsores[1]"
      ],
      "metadata": {
        "id": "-OUXziXvICPu"
      },
      "execution_count": null,
      "outputs": []
    },
    {
      "cell_type": "code",
      "source": [
        "# FORMA LOCAL -> previsão de um determinado registro\n",
        "eli5.show_prediction(modelo, previsores[1], feature_names = list(credito)[0:20], show_feature_values=True)"
      ],
      "metadata": {
        "id": "zKZSRwIAID45"
      },
      "execution_count": null,
      "outputs": []
    },
    {
      "cell_type": "code",
      "source": [
        "# SHAP -> técnica global que mostra a influência de cada atributo// a biblioteca atualizou e não está gerando o gráfico corretamente\n",
        "X_treino2 = X_treino.astype(float)\n",
        "explainer = shap.Explainer(modelo, X_treino2)\n",
        "shap_values = explainer.shap_values(X_teste)\n",
        "shap.summary_plot(shap_values, feature_names=list(credito)[0].values, plot_type='bar')\n",
        "shap.force_plot(explainer.expected_value[1], shap_values[1])\n",
        "shap.initjs()"
      ],
      "metadata": {
        "id": "c5hQN-WNMdjw"
      },
      "execution_count": null,
      "outputs": []
    },
    {
      "cell_type": "code",
      "source": [
        "# INTERPRET\n",
        "set_visualize_provider(InlineProvider())\n",
        "ebm = ExplainableBoostingClassifier(feature_names=list(credito)[0:20])\n",
        "ebm.fit(X_treino, y_treino)\n",
        "global_explanation = ebm.explain_global()\n",
        "show(global_explanation)"
      ],
      "metadata": {
        "id": "xRtqAMm7R-LL"
      },
      "execution_count": null,
      "outputs": []
    }
  ]
}