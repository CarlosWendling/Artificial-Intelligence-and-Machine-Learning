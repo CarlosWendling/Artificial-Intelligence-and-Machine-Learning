{
  "nbformat": 4,
  "nbformat_minor": 0,
  "metadata": {
    "colab": {
      "provenance": [],
      "gpuType": "T4"
    },
    "kernelspec": {
      "name": "python3",
      "display_name": "Python 3"
    },
    "language_info": {
      "name": "python"
    },
    "accelerator": "GPU"
  },
  "cells": [
    {
      "cell_type": "code",
      "execution_count": null,
      "metadata": {
        "id": "5yZcQvCazAc0"
      },
      "outputs": [],
      "source": [
        "!pip install openai-whisper"
      ]
    },
    {
      "cell_type": "code",
      "source": [
        "import whisper\n",
        "import os"
      ],
      "metadata": {
        "id": "na9Q1YPh2eM-"
      },
      "execution_count": null,
      "outputs": []
    },
    {
      "cell_type": "code",
      "source": [
        "modelo = whisper.load_model('base')\n",
        "resultado = modelo.transcribe('teste.mp3')\n",
        "\n",
        "texto = resultado['text']\n",
        "idioma = resultado['language']\n",
        "\n",
        "print(f'Transcrição: {texto} \\nIdioma: {idioma}')"
      ],
      "metadata": {
        "id": "ourLxe3e28EF"
      },
      "execution_count": null,
      "outputs": []
    },
    {
      "cell_type": "code",
      "source": [
        "with open('arquivo.txt', 'w') as f:\n",
        "  f.write(f'{texto}')"
      ],
      "metadata": {
        "id": "2rWFMO6T3eOP"
      },
      "execution_count": null,
      "outputs": []
    }
  ]
}