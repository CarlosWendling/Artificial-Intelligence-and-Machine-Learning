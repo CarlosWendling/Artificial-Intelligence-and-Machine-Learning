{
  "nbformat": 4,
  "nbformat_minor": 0,
  "metadata": {
    "colab": {
      "provenance": []
    },
    "kernelspec": {
      "name": "python3",
      "display_name": "Python 3"
    },
    "language_info": {
      "name": "python"
    }
  },
  "cells": [
    {
      "cell_type": "markdown",
      "source": [
        "# Técnicas de ML para detecção de Anomalias"
      ],
      "metadata": {
        "id": "i3ChZrnObGl6"
      }
    },
    {
      "cell_type": "markdown",
      "source": [
        "## Local Outlier Factor"
      ],
      "metadata": {
        "id": "zE4WO-qwa-E3"
      }
    },
    {
      "cell_type": "code",
      "execution_count": null,
      "metadata": {
        "id": "gZ-dEvAIagRh"
      },
      "outputs": [],
      "source": [
        "import numpy as np\n",
        "from sklearn.neighbors import LocalOutlierFactor"
      ]
    },
    {
      "cell_type": "code",
      "source": [
        "np.random.seed(42)\n",
        "data_matrix = np.random.rand(100,2)"
      ],
      "metadata": {
        "id": "ihy1tRiObuAK"
      },
      "execution_count": null,
      "outputs": []
    },
    {
      "cell_type": "code",
      "source": [
        "data_matrix"
      ],
      "metadata": {
        "id": "oG-5D4oYb2FW"
      },
      "execution_count": null,
      "outputs": []
    },
    {
      "cell_type": "code",
      "source": [
        "data_matrix[0,0] = 1000"
      ],
      "metadata": {
        "id": "UbT2GGCmb3gQ"
      },
      "execution_count": null,
      "outputs": []
    },
    {
      "cell_type": "code",
      "source": [
        "data_matrix = data_matrix.reshape(-1,1)"
      ],
      "metadata": {
        "id": "FVQBwHa8cElR"
      },
      "execution_count": null,
      "outputs": []
    },
    {
      "cell_type": "code",
      "source": [
        "lof = LocalOutlierFactor(n_neighbors=20, contamination='auto')\n",
        "\n",
        "lista = lof.fit_predict(data_matrix)"
      ],
      "metadata": {
        "id": "vOxZ5T9rcSFR"
      },
      "execution_count": null,
      "outputs": []
    },
    {
      "cell_type": "code",
      "source": [
        "lista"
      ],
      "metadata": {
        "id": "GpkQ-ES2coiW"
      },
      "execution_count": null,
      "outputs": []
    },
    {
      "cell_type": "code",
      "source": [
        "positions = np.where(lista == -1)\n",
        "print(data_matrix[positions])\n",
        "print(positions) # imprime a posição no array (que nesse caso é a 0)"
      ],
      "metadata": {
        "id": "pPIoYhydcpQ_"
      },
      "execution_count": null,
      "outputs": []
    },
    {
      "cell_type": "markdown",
      "source": [
        "## Isolation Forest"
      ],
      "metadata": {
        "id": "Smrpb9OmdHEi"
      }
    },
    {
      "cell_type": "code",
      "source": [
        "from sklearn.ensemble import IsolationForest\n",
        "from sklearn.datasets import load_iris"
      ],
      "metadata": {
        "id": "_mpu-RbSdJ2-"
      },
      "execution_count": null,
      "outputs": []
    },
    {
      "cell_type": "code",
      "source": [
        "data = load_iris().data"
      ],
      "metadata": {
        "id": "EcZvqu8Idf4J"
      },
      "execution_count": null,
      "outputs": []
    },
    {
      "cell_type": "code",
      "source": [
        "model = IsolationForest(contamination=0.01)\n",
        "model.fit(data)"
      ],
      "metadata": {
        "id": "E_NMGc-6dj3I"
      },
      "execution_count": null,
      "outputs": []
    },
    {
      "cell_type": "code",
      "source": [
        "predictions = model.predict(data)\n",
        "predictions"
      ],
      "metadata": {
        "id": "RkZwgwgxds1N"
      },
      "execution_count": null,
      "outputs": []
    },
    {
      "cell_type": "code",
      "source": [
        "# Vendo quais são os outliers\n",
        "data[predictions == -1]"
      ],
      "metadata": {
        "id": "oizJHXZKdy1p"
      },
      "execution_count": null,
      "outputs": []
    }
  ]
}