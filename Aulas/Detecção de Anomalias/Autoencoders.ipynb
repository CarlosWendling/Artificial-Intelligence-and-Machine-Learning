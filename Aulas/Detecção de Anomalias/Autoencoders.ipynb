{
  "nbformat": 4,
  "nbformat_minor": 0,
  "metadata": {
    "colab": {
      "provenance": []
    },
    "kernelspec": {
      "name": "python3",
      "display_name": "Python 3"
    },
    "language_info": {
      "name": "python"
    }
  },
  "cells": [
    {
      "cell_type": "code",
      "execution_count": null,
      "metadata": {
        "id": "TYHeXJpvfiie"
      },
      "outputs": [],
      "source": [
        "import numpy as np\n",
        "import matplotlib.pyplot as plt\n",
        "from keras.datasets import mnist\n",
        "from keras.models import Sequential, Model\n",
        "from keras.layers import Dense, Input\n",
        "from sklearn.metrics import mean_squared_error"
      ]
    },
    {
      "cell_type": "code",
      "source": [
        "# Separando o dataset em dados de treino e teste\n",
        "(X_train,_),(X_test,_) = mnist.load_data()"
      ],
      "metadata": {
        "id": "3kXR1Fx2gSLz"
      },
      "execution_count": null,
      "outputs": []
    },
    {
      "cell_type": "code",
      "source": [
        "# Deixando os dados na mesma escala\n",
        "X_train = X_train.astype('float32') / 255.0\n",
        "X_test = X_test.astype('float32') / 255.0"
      ],
      "metadata": {
        "id": "nKKWtt3kgtLq"
      },
      "execution_count": null,
      "outputs": []
    },
    {
      "cell_type": "code",
      "source": [
        "# Achatando os dados para uma dimenção\n",
        "X_train = X_train.reshape(len(X_train), np.prod(X_train.shape[1:]))\n",
        "X_test = X_test.reshape(len(X_test), np.prod(X_test.shape[1:]))"
      ],
      "metadata": {
        "id": "iJjx1XJ_hAxV"
      },
      "execution_count": null,
      "outputs": []
    },
    {
      "cell_type": "code",
      "source": [
        "# Adicionando ruído e limitando para que os valores fiquem de 0 a 1\n",
        "X_test_noisy = X_test + 0.5 * np.random.normal(loc=0.0, scale=1.0, size=X_test.shape)\n",
        "X_test_noisy = np.clip(X_test_noisy, 0.0, 1.0)"
      ],
      "metadata": {
        "id": "jaTR4oDEhZen"
      },
      "execution_count": null,
      "outputs": []
    },
    {
      "cell_type": "code",
      "source": [
        "# Criação do modelo e treinamento\n",
        "inputs = Input(shape=(784,))\n",
        "encoder = Dense(32, activation='relu')(inputs)\n",
        "decoder = Dense(784, activation='sigmoid')(encoder)\n",
        "autoencoder = Model(inputs, decoder)\n",
        "autoencoder.compile(optimizer='adam', loss='binary_crossentropy')\n",
        "autoencoder.fit(X_train, X_train, epochs=100, batch_size=256, shuffle=True)"
      ],
      "metadata": {
        "id": "f42deQTNh4DR"
      },
      "execution_count": null,
      "outputs": []
    },
    {
      "cell_type": "code",
      "source": [
        "# Previsões com dados normais e em dados com ruído\n",
        "test_normal_decoded = autoencoder.predict(X_test)\n",
        "test_anomalies_decoded = autoencoder.predict(X_test_noisy)"
      ],
      "metadata": {
        "id": "hplVK9swjQwt"
      },
      "execution_count": null,
      "outputs": []
    },
    {
      "cell_type": "code",
      "source": [
        "# Diferença dos acertos entre as previsões com anomalias (ruídos) e sem elas\n",
        "mse_normal = mean_squared_error(X_test, test_normal_decoded)\n",
        "mse_anomalies = mean_squared_error(X_test_noisy, test_anomalies_decoded)\n",
        "print('MSE Normal: ', mse_normal)\n",
        "print('MSE Anomalias: ', mse_anomalies)"
      ],
      "metadata": {
        "id": "NIqBmquLkrre"
      },
      "execution_count": null,
      "outputs": []
    }
  ]
}