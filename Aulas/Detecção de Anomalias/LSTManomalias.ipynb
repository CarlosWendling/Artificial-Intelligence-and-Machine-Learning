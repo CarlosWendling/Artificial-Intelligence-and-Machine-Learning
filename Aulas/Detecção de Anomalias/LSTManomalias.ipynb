{
  "nbformat": 4,
  "nbformat_minor": 0,
  "metadata": {
    "colab": {
      "provenance": []
    },
    "kernelspec": {
      "name": "python3",
      "display_name": "Python 3"
    },
    "language_info": {
      "name": "python"
    }
  },
  "cells": [
    {
      "cell_type": "code",
      "execution_count": null,
      "metadata": {
        "id": "GSEKsSE-wUdk"
      },
      "outputs": [],
      "source": [
        "import numpy as np\n",
        "import matplotlib.pyplot as plt\n",
        "import pandas as pd\n",
        "from keras.models import Sequential\n",
        "from keras.layers import Dense, Dropout, LSTM\n",
        "from sklearn.preprocessing import MinMaxScaler\n",
        "from sklearn.metrics import mean_squared_error"
      ]
    },
    {
      "cell_type": "code",
      "source": [
        "dataset_train = pd.read_csv('Salestrain.csv')"
      ],
      "metadata": {
        "id": "qh4U9fjQ2ZSl"
      },
      "execution_count": null,
      "outputs": []
    },
    {
      "cell_type": "code",
      "source": [
        "dataset_train.shape"
      ],
      "metadata": {
        "id": "4QiPQR_c2xvq"
      },
      "execution_count": null,
      "outputs": []
    },
    {
      "cell_type": "code",
      "source": [
        "dataset_train"
      ],
      "metadata": {
        "id": "HNyjQtZy2zbH"
      },
      "execution_count": null,
      "outputs": []
    },
    {
      "cell_type": "code",
      "source": [
        "plt.plot(dataset_train, color=\"blue\", label=\"Vendas\")\n",
        "plt.title(\"Vendas\")\n",
        "plt.xlabel(\"Tempo\")\n",
        "plt.ylabel(\"Vendas\")\n",
        "plt.legend()\n",
        "plt.show()"
      ],
      "metadata": {
        "id": "0bnR-oyq29GR"
      },
      "execution_count": null,
      "outputs": []
    },
    {
      "cell_type": "code",
      "source": [
        "# Dados na mesma escala (entre 0 e 1)\n",
        "sc = MinMaxScaler(feature_range=(0,1))\n",
        "training_set_scaled = sc.fit_transform(dataset_train)"
      ],
      "metadata": {
        "id": "ibeAJoNt3PeE"
      },
      "execution_count": null,
      "outputs": []
    },
    {
      "cell_type": "code",
      "source": [
        "# Formatar os dados para que  cada amostra de entrada (X_train) contenha 90 pontos de tempo consecutivos, e a saída (y_train) seja o próximo valor da série\n",
        "X_train = []\n",
        "y_train = []\n",
        "for i in range(90, len(training_set_scaled)):\n",
        "  data = training_set_scaled[i-90:i,0] # Seleciona uma janela deslizante de 90 valores anteriores como entrada\n",
        "  X_train.append(data)\n",
        "  y_train.append(training_set_scaled[i,0]) # O próximo valor na sequência é armazenado como o rótulo de saída esperado\n",
        "\n",
        "X_train = np.array(X_train).reshape(-1,90,1)\n",
        "y_train = np.array(y_train)\n",
        "\n",
        "# janela deslizante -> lidam com previsão de valores futuros baseados no histórico"
      ],
      "metadata": {
        "id": "Yu_uj--P37F5"
      },
      "execution_count": null,
      "outputs": []
    },
    {
      "cell_type": "code",
      "source": [
        "# Criando a rede\n",
        "modelo = Sequential()\n",
        "modelo.add(LSTM(units=100, return_sequences=True, input_shape=(X_train.shape[1],1)))\n",
        "modelo.add(Dropout(0.2)) # Exlui neuronios de forma aleatória, para evitar overfiting\n",
        "modelo.add(LSTM(units=100, return_sequences=True))\n",
        "modelo.add(Dropout(0.2))\n",
        "modelo.add(LSTM(units=100, return_sequences=True))\n",
        "modelo.add(Dropout(0.2))\n",
        "modelo.add(LSTM(units=100)) # padrão do return_sequences é false\n",
        "modelo.add(Dropout(0.2))\n",
        "modelo.add(Dense(units=1)) # Saída"
      ],
      "metadata": {
        "id": "fMz2j08X5S_w"
      },
      "execution_count": null,
      "outputs": []
    },
    {
      "cell_type": "code",
      "source": [
        "# Compilando e treinando o modelo\n",
        "modelo.compile(optimizer='adam', loss='mean_squared_error')\n",
        "modelo.fit(X_train, y_train, epochs=300, batch_size=1)"
      ],
      "metadata": {
        "id": "16049hIa8RkC"
      },
      "execution_count": null,
      "outputs": []
    },
    {
      "cell_type": "code",
      "source": [
        "dataset_test = pd.read_csv('Salestest.csv')"
      ],
      "metadata": {
        "id": "_VmYSxn68ne4"
      },
      "execution_count": null,
      "outputs": []
    },
    {
      "cell_type": "code",
      "source": [
        "dataset_test.shape"
      ],
      "metadata": {
        "id": "VB_AHuQZ-awA"
      },
      "execution_count": null,
      "outputs": []
    },
    {
      "cell_type": "code",
      "source": [
        "# Criando um gráfico com ambos os dados, de teste e treino\n",
        "train_values = dataset_train['data'].values\n",
        "test_values = dataset_test['data'].values\n",
        "total_values = np.concatenate((train_values, test_values), axis=0)\n",
        "\n",
        "time_index = range(len(total_values))\n",
        "# Até o comprimento de train_values\n",
        "plt.plot(time_index[:len(train_values)], train_values, color='blue', label='Vendas - Treinamento',)\n",
        "# A partir do comprimento de train_values\n",
        "plt.plot(time_index[len(train_values):], test_values, color='red', label='Vendas - Teste')\n",
        "plt.title('Vendas')\n",
        "plt.xlabel('Tempo')\n",
        "plt.ylabel('Vendas')\n",
        "plt.legend()\n",
        "plt.show()"
      ],
      "metadata": {
        "id": "FZ0yZzm3-cic"
      },
      "execution_count": null,
      "outputs": []
    },
    {
      "cell_type": "code",
      "source": [
        "# Cópia dos dados de teste\n",
        "dataset_test_anomalies = dataset_test.copy()\n",
        "dataset_test_anomalies.loc[:9, 'data'] = 90\n",
        "dataset_test_anomalies.loc[10:34, 'data'] = np.random.uniform(100,200, size=(25,))\n",
        "dataset_test_anomalies.loc[35:, 'data'] = 90"
      ],
      "metadata": {
        "id": "wXi5mCYJAfcY"
      },
      "execution_count": null,
      "outputs": []
    },
    {
      "cell_type": "code",
      "source": [
        "# Gráfico para comparar os dados de teste com e sem anomalias\n",
        "plt.plot(dataset_test, color='blue', label='Vendas')\n",
        "plt.plot(dataset_test_anomalies, color='red', label='Vendas com Anomalias')\n",
        "plt.title('Vendas')\n",
        "plt.xlabel('Tempo')\n",
        "plt.ylabel('Vendas')\n",
        "plt.legend()\n",
        "plt.show()"
      ],
      "metadata": {
        "id": "NifBJaNiBNnz"
      },
      "execution_count": null,
      "outputs": []
    },
    {
      "cell_type": "code",
      "source": [
        "dataset_total = pd.concat((dataset_train['data'], dataset_test['data']), axis=0) # Concatenar os dados de treino e teste\n",
        "inputs = dataset_total[len(dataset_total) - len(dataset_test) -90:] # Cria inputs que serão usados para prever os valores (pega os 90 valores anteriores ao\n",
        "                                                                    # início do conjunto de teste + Todos os valores do conjunto de teste) -> janela de 90 períodos\n",
        "inputs = pd.DataFrame(inputs, columns=['data']) # Converte os dados selecionados para um DataFrame Pandas com uma única coluna chamada 'data'\n",
        "inputs = sc.transform(inputs)"
      ],
      "metadata": {
        "id": "Ut8ep9TqBhu0"
      },
      "execution_count": null,
      "outputs": []
    },
    {
      "cell_type": "code",
      "source": [
        "dataset_total_anomalies = pd.concat((dataset_train['data'], dataset_test_anomalies['data']), axis=0)\n",
        "inputs_anomalies = dataset_total_anomalies[len(dataset_total_anomalies) - len(dataset_test_anomalies) -90:]\n",
        "inputs_anomalies = pd.DataFrame(inputs_anomalies, columns=['data'])\n",
        "inputs_anomalies = sc.transform(inputs_anomalies)"
      ],
      "metadata": {
        "id": "hCt7TFKfDGu-"
      },
      "execution_count": null,
      "outputs": []
    },
    {
      "cell_type": "code",
      "source": [
        "# Criar a janela deslizante com as 90 observações, que nem foi feito com os dados de treino\n",
        "X_test = []\n",
        "X_test_anomalies = []\n",
        "\n",
        "for i in range (90, len(inputs)):\n",
        "  X_test.append(inputs[i-90:i,0])\n",
        "  X_test_anomalies.append(inputs_anomalies[i-90:i,0])\n",
        "\n",
        "X_test, X_test_anomalies = np.array(X_test), np.array(X_test_anomalies)\n",
        "X_test = np.reshape(X_test, (X_test.shape[0], X_test.shape[1], 1))\n",
        "X_test_anomalies = np.reshape(X_test_anomalies, (X_test_anomalies.shape[0], X_test_anomalies.shape[1], 1))"
      ],
      "metadata": {
        "id": "ce1jlpMQFpS1"
      },
      "execution_count": null,
      "outputs": []
    },
    {
      "cell_type": "code",
      "source": [
        "# Fazendo as previsões\n",
        "predicted_sales = modelo.predict(X_test)\n",
        "predicted_sales = sc.inverse_transform(predicted_sales)\n",
        "\n",
        "predicted_sales_anomalies = modelo.predict(X_test_anomalies)\n",
        "predicted_sales_anomalies = sc.inverse_transform(predicted_sales_anomalies)\n",
        "\n",
        "mes_test = mean_squared_error(test_values, predicted_sales)\n",
        "mes_test_anomalies = mean_squared_error(test_values, predicted_sales_anomalies)"
      ],
      "metadata": {
        "id": "iK3aJHJJHkYJ"
      },
      "execution_count": null,
      "outputs": []
    },
    {
      "cell_type": "code",
      "source": [
        "print(f'MSE para conjunto de dados normal: {mes_test}')\n",
        "print(f'MSE para conjunto de dados com anomalias: {mes_test_anomalies}')"
      ],
      "metadata": {
        "id": "ZMTb6t6mL7T8"
      },
      "execution_count": null,
      "outputs": []
    },
    {
      "cell_type": "code",
      "source": [
        "plt.plot(test_values, color='blue', label='Valores Reais')\n",
        "plt.plot(predicted_sales, color='red', label='Previsões')\n",
        "plt.plot(predicted_sales_anomalies, color='green', label='Previsões com Anomalias')\n",
        "plt.xlabel('Tempo')\n",
        "plt.ylabel('Vendas')\n",
        "plt.legend()\n",
        "plt.show()"
      ],
      "metadata": {
        "id": "vTXvfenwMStL"
      },
      "execution_count": null,
      "outputs": []
    }
  ]
}