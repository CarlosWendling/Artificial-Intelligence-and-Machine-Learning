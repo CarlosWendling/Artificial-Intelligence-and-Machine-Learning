{
  "nbformat": 4,
  "nbformat_minor": 0,
  "metadata": {
    "colab": {
      "provenance": []
    },
    "kernelspec": {
      "name": "python3",
      "display_name": "Python 3"
    },
    "language_info": {
      "name": "python"
    }
  },
  "cells": [
    {
      "cell_type": "markdown",
      "source": [
        "# Técnicas Estatísticas"
      ],
      "metadata": {
        "id": "Y-irawLv8IE-"
      }
    },
    {
      "cell_type": "markdown",
      "source": [
        "## ZScore"
      ],
      "metadata": {
        "id": "CqY-duGx8SRd"
      }
    },
    {
      "cell_type": "code",
      "execution_count": null,
      "metadata": {
        "id": "dwESPbVt6eLD"
      },
      "outputs": [],
      "source": [
        "import numpy as np\n",
        "import scipy.stats as stats"
      ]
    },
    {
      "cell_type": "code",
      "source": [
        "data = np.array([30, 27, 20, 29, 30, 31, 36, 28, 29, 20, 200, 300, 100, 35, 34])"
      ],
      "metadata": {
        "id": "gQbQQSHd7So6"
      },
      "execution_count": null,
      "outputs": []
    },
    {
      "cell_type": "code",
      "source": [
        "zscores = stats.zscore(data)\n",
        "print(zscores)"
      ],
      "metadata": {
        "id": "Pypn7QVG7gQh"
      },
      "execution_count": null,
      "outputs": []
    },
    {
      "cell_type": "code",
      "source": [
        "anomalia = data[np.abs(zscores) > 3]\n",
        "print(f'Anomalias Identificadas: {anomalia}')"
      ],
      "metadata": {
        "id": "bvnQqEqA7u3Q"
      },
      "execution_count": null,
      "outputs": []
    },
    {
      "cell_type": "markdown",
      "source": [
        "## IQR (interquartil)"
      ],
      "metadata": {
        "id": "-yaAfwoy8VyV"
      }
    },
    {
      "cell_type": "code",
      "source": [
        "dataset = [1, 2, 3, -4, 4, -90, 100, -400, 5, 6, 7, 300]"
      ],
      "metadata": {
        "id": "TzPeZLuh8ZO8"
      },
      "execution_count": null,
      "outputs": []
    },
    {
      "cell_type": "code",
      "source": [
        "quartil1 = np.percentile(dataset, 25) # Primeiro quarto do dataset\n",
        "quartil3 = np.percentile(dataset, 75)\n",
        "\n",
        "iqr = quartil3 - quartil1\n",
        "\n",
        "limiteInferior = quartil1 - 1.5 * iqr\n",
        "limiteSuperior = quartil3 + 1.5 * iqr\n",
        "\n",
        "# Se o valor for inferior ao quartil1 ou superior ao quartil3\n",
        "outliers = []\n",
        "\n",
        "for value in dataset:\n",
        "  if value < limiteInferior or value > limiteSuperior:\n",
        "    outliers.append(value)\n",
        "\n",
        "print(f'Quartil 1: {quartil1}')\n",
        "print(f'Quartil 3: {quartil3}')\n",
        "print(f'IQR: {iqr}')\n",
        "\n",
        "print(f'Limite Inferior: {limiteInferior}')\n",
        "print(f'Limite Superior: {limiteSuperior}')\n",
        "\n",
        "print('Anomalias: ', outliers)"
      ],
      "metadata": {
        "id": "wUyGnBhC9TdE"
      },
      "execution_count": null,
      "outputs": []
    }
  ]
}