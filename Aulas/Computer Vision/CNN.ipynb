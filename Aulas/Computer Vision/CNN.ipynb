{
  "nbformat": 4,
  "nbformat_minor": 0,
  "metadata": {
    "colab": {
      "provenance": [],
      "gpuType": "T4"
    },
    "kernelspec": {
      "name": "python3",
      "display_name": "Python 3"
    },
    "language_info": {
      "name": "python"
    },
    "accelerator": "GPU"
  },
  "cells": [
    {
      "cell_type": "code",
      "execution_count": null,
      "metadata": {
        "id": "grLoI9SprQi5"
      },
      "outputs": [],
      "source": [
        "# Acelerador de Hardware -> GPU T4 -> Para otimizar o processo do treinamento da rede"
      ]
    },
    {
      "cell_type": "code",
      "source": [
        "from keras.datasets import cifar10\n",
        "from keras.utils import to_categorical\n",
        "from keras.models import Sequential\n",
        "from keras.layers import Dense, Dropout, Flatten, Conv2D, MaxPooling2D\n",
        "import matplotlib.pyplot as plt\n",
        "import numpy as np\n",
        "from sklearn.metrics import confusion_matrix, accuracy_score"
      ],
      "metadata": {
        "id": "D-hKCKBzst5E"
      },
      "execution_count": null,
      "outputs": []
    },
    {
      "cell_type": "code",
      "source": [
        "(X_train, y_train), (X_test, y_test) = cifar10.load_data() # O CIFAR10 POSSUI ESSE MÉTODO QUE JÁ DIVIDE EM TREINO E TESTE"
      ],
      "metadata": {
        "id": "VxOmx_79trII"
      },
      "execution_count": null,
      "outputs": []
    },
    {
      "cell_type": "code",
      "source": [
        "# VISUALIZANDO UMA DAS IMAGENS DO DATASET\n",
        "image = X_train[1]\n",
        "plt.imshow(image, interpolation='bicubic')\n",
        "plt.show()"
      ],
      "metadata": {
        "id": "opFvhavOvlop"
      },
      "execution_count": null,
      "outputs": []
    },
    {
      "cell_type": "code",
      "source": [
        "X_train.shape # nº de imagens, pixels por pixels, cores"
      ],
      "metadata": {
        "id": "_OltVwsSwCHD"
      },
      "execution_count": null,
      "outputs": []
    },
    {
      "cell_type": "code",
      "source": [
        "X_train"
      ],
      "metadata": {
        "collapsed": true,
        "id": "5nZ7t8g4ybg1"
      },
      "execution_count": null,
      "outputs": []
    },
    {
      "cell_type": "code",
      "source": [
        "# DIVIDIR OS Nº DE PIXELS POR 255 (PRESENÇA MÁXIMA DE COR) PARA PADRONIZAR EM UMA ESCALA DE 0 A 1\n",
        "X_train = X_train.astype('float32') / 255.0\n",
        "X_test = X_test.astype('float32') / 255.0"
      ],
      "metadata": {
        "id": "o17MVOQ6xk5c"
      },
      "execution_count": null,
      "outputs": []
    },
    {
      "cell_type": "code",
      "source": [
        "# ONE HOT ENCODING DA CLASSE -> TRANSFORMANDO EM 10 (porque são 10 possibilidades de classificação) ATRIBUTOS BINÁRIOS DIFERENTES\n",
        "y_train = to_categorical(y_train, 10)\n",
        "y_test = to_categorical(y_test, 10)"
      ],
      "metadata": {
        "id": "8WkRkym4ysEq"
      },
      "execution_count": null,
      "outputs": []
    },
    {
      "cell_type": "code",
      "source": [
        "y_train"
      ],
      "metadata": {
        "id": "CxNPMobazlfq"
      },
      "execution_count": null,
      "outputs": []
    },
    {
      "cell_type": "code",
      "source": [
        "# CRIANDO A TOPOLOGIA DA REDE\n",
        "modelo = Sequential()\n",
        "\n",
        "# 1º CONJUNTO DE CAMADAS\n",
        "modelo.add(Conv2D(32, (3,3), padding='same', activation='relu', input_shape=(32,32,3))) # CONVOLUTIONAL LAYER COM 32 FILTOS 3X3\n",
        "                                                                                        # PADDING -> PREENCHE AS MATRIZES QUE NÃO TEM O MESMO TAMANHO E SÃO MENORES\n",
        "                                                                                        # O INPUT SHAPE É A ESTRUTURA DAS IMAGENS DE ENTRADA, COMO FOI VISTO ANTES\n",
        "modelo.add(Conv2D(32, (3,3), activation='relu'))\n",
        "modelo.add(MaxPooling2D(pool_size=(2,2))) # POOL SIZE PADRÃO\n",
        "modelo.add(Dropout(0.25))\n",
        "\n",
        "# 2º\n",
        "modelo.add(Conv2D(64, (3,3), padding='same', activation='relu'))\n",
        "modelo.add(Conv2D(64, (3,3), activation='relu'))\n",
        "modelo.add(MaxPooling2D(pool_size=(2,2)))\n",
        "modelo.add(Dropout(0.25))\n",
        "\n",
        "modelo.add(Flatten())\n",
        "\n",
        "# 3º -> CAMADA DENSA (REDE NEURAL EM SI)\n",
        "modelo.add(Dense(512, activation='relu'))\n",
        "modelo.add(Dropout(0.25))\n",
        "modelo.add(Dense(10, activation='softmax')) # CAMADA DE SAÍDA"
      ],
      "metadata": {
        "id": "fvzcqnNwzpj4"
      },
      "execution_count": null,
      "outputs": []
    },
    {
      "cell_type": "code",
      "source": [
        "# COMPILAR A REDE\n",
        "modelo.compile(loss='categorical_crossentropy', optimizer='adam', metrics=['accuracy'])\n",
        "# TREINAR A REDE\n",
        "modelo.fit(X_train, y_train, batch_size=32, epochs=10) # 10 EPOCHS É POUCO, CASO EU QUEIRA UMA MELHOR PERFORMANCE PRECISARIA DE MAIS\n",
        "                                                       # 10 = loss: 0.5025 | 110 = 0.1762"
      ],
      "metadata": {
        "collapsed": true,
        "id": "k-BSpldJ3mca"
      },
      "execution_count": null,
      "outputs": []
    },
    {
      "cell_type": "code",
      "source": [
        "previsoes = modelo.predict(X_test)"
      ],
      "metadata": {
        "id": "LAhYUpMM4hXa"
      },
      "execution_count": null,
      "outputs": []
    },
    {
      "cell_type": "code",
      "source": [
        "previsoes # RETORNA A PROBABILIDADE"
      ],
      "metadata": {
        "id": "1aHHjf3t8Z17"
      },
      "execution_count": null,
      "outputs": []
    },
    {
      "cell_type": "code",
      "source": [
        "previsoes_classes = np.argmax(previsoes, axis=1) # RETORNA A CLASSE MAIS PROVÁVEL DA PREVISÃO\n",
        "previsoes_classes"
      ],
      "metadata": {
        "id": "YB3ALTXZ8cLJ"
      },
      "execution_count": null,
      "outputs": []
    },
    {
      "cell_type": "code",
      "source": [
        "y_test_classes = np.argmax(y_test, axis=1)"
      ],
      "metadata": {
        "id": "a2iy07kC8qk8"
      },
      "execution_count": null,
      "outputs": []
    },
    {
      "cell_type": "code",
      "source": [
        "y_test_classes"
      ],
      "metadata": {
        "id": "ZwxxCVN_9a9J"
      },
      "execution_count": null,
      "outputs": []
    },
    {
      "cell_type": "code",
      "source": [
        "accuracy = accuracy_score(y_test_classes, previsoes_classes)\n",
        "accuracy"
      ],
      "metadata": {
        "id": "Lv4Y8WxoE6QH"
      },
      "execution_count": null,
      "outputs": []
    },
    {
      "cell_type": "code",
      "source": [
        "confusion = confusion_matrix(y_test_classes, previsoes_classes)\n",
        "confusion"
      ],
      "metadata": {
        "id": "HrL0twZ8FFff"
      },
      "execution_count": null,
      "outputs": []
    }
  ]
}