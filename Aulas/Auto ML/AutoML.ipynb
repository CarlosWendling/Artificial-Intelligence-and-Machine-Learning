{
  "nbformat": 4,
  "nbformat_minor": 0,
  "metadata": {
    "colab": {
      "provenance": []
    },
    "kernelspec": {
      "name": "python3",
      "display_name": "Python 3"
    },
    "language_info": {
      "name": "python"
    }
  },
  "cells": [
    {
      "cell_type": "code",
      "execution_count": null,
      "metadata": {
        "id": "Q6xKESMcwwbj"
      },
      "outputs": [],
      "source": [
        "# BIBLIOTECA PARA TRABALHAR COM UM ALGORITMO DE OTIMIZAÇÃO, QUE TRABALHA COM ALGORITMO GENÉTICO\n",
        "!pip install tpot"
      ]
    },
    {
      "cell_type": "code",
      "source": [
        "from sklearn.model_selection import train_test_split\n",
        "from sklearn.metrics import accuracy_score\n",
        "from sklearn.datasets import load_iris\n",
        "from tpot import TPOTClassifier"
      ],
      "metadata": {
        "id": "9Dllg6-2xJ1x"
      },
      "execution_count": null,
      "outputs": []
    },
    {
      "cell_type": "code",
      "source": [
        "data = load_iris()\n",
        "X = data.data\n",
        "y = data.target\n",
        "\n",
        "X_treino, X_teste, y_treino, y_teste = train_test_split(X, y, test_size=0.3, random_state=0)"
      ],
      "metadata": {
        "id": "LkbzfSeBxoVe"
      },
      "execution_count": null,
      "outputs": []
    },
    {
      "cell_type": "code",
      "source": [
        "tpot = TPOTClassifier(\n",
        "    generations = 10,\n",
        "    population_size = 100,\n",
        "    offspring_size = 100,\n",
        "    mutation_rate = 0.9,\n",
        "    crossover_rate = 0.1,\n",
        "    scoring = 'accuracy',\n",
        "    max_time_mins = 2,\n",
        "    random_state = 0,\n",
        "    early_stop = False,\n",
        "    verbosity = 2\n",
        ")\n",
        "\n",
        "# VAI MOSTRAR O MODELO COM MELHOR DESEMPENHO E QUAIS FORAM OS HIPER PARÂMETROS USADOS\n",
        "tpot.fit(X_treino, y_treino)\n",
        "print(\"Melhor modelo: \", tpot.fitted_pipeline_)"
      ],
      "metadata": {
        "id": "t4kgnblgyjJK"
      },
      "execution_count": null,
      "outputs": []
    },
    {
      "cell_type": "code",
      "source": [
        "# VAI MOSTRAR TODOS OS ALGORTIMOS QUE FORAM TESTADOS DURANTE O PERÍODO DE TEMPO ESCOLHIDO\n",
        "tpot.evaluated_individuals_"
      ],
      "metadata": {
        "id": "1u_YP1Eez6Bx"
      },
      "execution_count": null,
      "outputs": []
    },
    {
      "cell_type": "code",
      "source": [
        "# PREVISÃO\n",
        "previsao = tpot.predict(X_teste)\n",
        "acuracia = accuracy_score(previsao, y_teste)\n",
        "print(f'Acurácia: {acuracia}')"
      ],
      "metadata": {
        "id": "9MNOs08s04M3"
      },
      "execution_count": null,
      "outputs": []
    }
  ]
}