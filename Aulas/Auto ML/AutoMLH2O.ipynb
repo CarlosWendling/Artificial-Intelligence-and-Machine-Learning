{
  "nbformat": 4,
  "nbformat_minor": 0,
  "metadata": {
    "colab": {
      "provenance": []
    },
    "kernelspec": {
      "name": "python3",
      "display_name": "Python 3"
    },
    "language_info": {
      "name": "python"
    }
  },
  "cells": [
    {
      "cell_type": "code",
      "execution_count": null,
      "metadata": {
        "id": "pAi7ejfwXQkq"
      },
      "outputs": [],
      "source": [
        "# INSTALANDO A LIB H20\n",
        "!pip install h2o"
      ]
    },
    {
      "cell_type": "code",
      "source": [
        "import h2o\n",
        "from h2o.automl import H2OAutoML"
      ],
      "metadata": {
        "id": "ejoBnAlYXdQ_"
      },
      "execution_count": null,
      "outputs": []
    },
    {
      "cell_type": "code",
      "source": [
        "# ESSA LIB FUNCIONA COM CONCEITO DE CLUSTER\n",
        "h2o.init()"
      ],
      "metadata": {
        "id": "iAcVpyeQXthR"
      },
      "execution_count": null,
      "outputs": []
    },
    {
      "cell_type": "code",
      "source": [
        "data = h2o.import_file('insurance.csv')"
      ],
      "metadata": {
        "id": "Ons1HOE3X3IK"
      },
      "execution_count": null,
      "outputs": []
    },
    {
      "cell_type": "code",
      "source": [
        "data"
      ],
      "metadata": {
        "id": "Ifq3iMGWYf5h"
      },
      "execution_count": null,
      "outputs": []
    },
    {
      "cell_type": "code",
      "source": [
        "data = data.drop(\"C1\")"
      ],
      "metadata": {
        "id": "kYcdq2kRYlVX"
      },
      "execution_count": null,
      "outputs": []
    },
    {
      "cell_type": "code",
      "source": [
        "treino, teste = data.split_frame(ratios=[0.7], seed=0)"
      ],
      "metadata": {
        "id": "qqI3d_VKY1qJ"
      },
      "execution_count": null,
      "outputs": []
    },
    {
      "cell_type": "code",
      "source": [
        "model_automl = H2OAutoML(max_runtime_secs=180, sort_metric='AUTO')\n",
        "# TREINAMENTO DO MODELO -> GERA VÁRIAS MÉTRICAS A RESPEITO DO PROCESSO DE TREINAMENTO DOS MODELOS E INDICA QUAL É O MELHOR\n",
        "model_automl.train(y=\"Accident\", training_frame=treino)"
      ],
      "metadata": {
        "id": "GbUuFrI3Y-Fl"
      },
      "execution_count": null,
      "outputs": []
    },
    {
      "cell_type": "code",
      "source": [
        "ranking = model_automl.leaderboard\n",
        "ranking = ranking.as_data_frame()\n",
        "ranking"
      ],
      "metadata": {
        "id": "P1CZijJkZrIN"
      },
      "execution_count": null,
      "outputs": []
    },
    {
      "cell_type": "code",
      "source": [
        "prever = model_automl.leader.predict(teste)"
      ],
      "metadata": {
        "id": "j19k-cxVa1ct"
      },
      "execution_count": null,
      "outputs": []
    },
    {
      "cell_type": "code",
      "source": [
        "prever"
      ],
      "metadata": {
        "id": "qHPQcikXcdg8"
      },
      "execution_count": null,
      "outputs": []
    }
  ]
}