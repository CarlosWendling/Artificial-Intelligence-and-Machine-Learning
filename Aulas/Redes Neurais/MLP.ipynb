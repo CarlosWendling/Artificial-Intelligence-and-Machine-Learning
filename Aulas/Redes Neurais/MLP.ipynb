{
  "nbformat": 4,
  "nbformat_minor": 0,
  "metadata": {
    "colab": {
      "provenance": []
    },
    "kernelspec": {
      "name": "python3",
      "display_name": "Python 3"
    },
    "language_info": {
      "name": "python"
    }
  },
  "cells": [
    {
      "cell_type": "code",
      "source": [
        "# MULTI LAYER PERCEPTOR"
      ],
      "metadata": {
        "id": "-Ol9hemeuOyg"
      },
      "execution_count": null,
      "outputs": []
    },
    {
      "cell_type": "code",
      "source": [
        "from sklearn import datasets\n",
        "from sklearn.neural_network import MLPClassifier\n",
        "from sklearn.model_selection import train_test_split\n",
        "from sklearn.metrics import accuracy_score\n",
        "import matplotlib.pyplot as plt"
      ],
      "metadata": {
        "id": "uU0r3CsGuWlb"
      },
      "execution_count": null,
      "outputs": []
    },
    {
      "cell_type": "code",
      "source": [
        "iris = datasets.load_iris()\n",
        "X_treino, X_teste, y_treino, y_teste = train_test_split(iris.data, iris.target, test_size=0.3, random_state=0)"
      ],
      "metadata": {
        "id": "Sc37X8VRu23V"
      },
      "execution_count": null,
      "outputs": []
    },
    {
      "cell_type": "code",
      "source": [
        "modelo = MLPClassifier(\n",
        "    verbose = True,\n",
        "    hidden_layer_sizes = (5,4),\n",
        "    activation = 'relu',\n",
        "    batch_size = 20,\n",
        "    learning_rate = 'adaptive',\n",
        "    momentum = 0.9,\n",
        "    early_stopping = False,\n",
        "    max_iter = 1000,\n",
        "    random_state = 10\n",
        ")\n",
        "\n",
        "# O OBJETIVO DO TREINO É DIMINUIR A LOSS FUNCTION\n",
        "modelo.fit(X_treino, y_treino)"
      ],
      "metadata": {
        "id": "E8shD7-LvcZu"
      },
      "execution_count": null,
      "outputs": []
    },
    {
      "cell_type": "code",
      "source": [
        "# GRÁFICO QUE MOSTRA A MELHORIA DO VALOR DA LOSS FUNCTION\n",
        "plt.plot(modelo.loss_curve_)\n",
        "plt.xlabel(\"Iterações\")\n",
        "plt.ylabel(\"Valor de Loss\")\n",
        "plt.title(\"Loss\")\n",
        "plt.show"
      ],
      "metadata": {
        "id": "zYzkhXk3x07E"
      },
      "execution_count": null,
      "outputs": []
    },
    {
      "cell_type": "code",
      "source": [
        "previsoes = modelo.predict(X_teste)\n",
        "previsoes"
      ],
      "metadata": {
        "id": "eojCv7hiyX1S"
      },
      "execution_count": null,
      "outputs": []
    },
    {
      "cell_type": "code",
      "source": [
        "print(accuracy_score(y_teste, previsoes))"
      ],
      "metadata": {
        "id": "a9lF_P3Eyc9F"
      },
      "execution_count": null,
      "outputs": []
    }
  ]
}