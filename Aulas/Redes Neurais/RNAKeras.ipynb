{
  "nbformat": 4,
  "nbformat_minor": 0,
  "metadata": {
    "colab": {
      "provenance": []
    },
    "kernelspec": {
      "name": "python3",
      "display_name": "Python 3"
    },
    "language_info": {
      "name": "python"
    }
  },
  "cells": [
    {
      "cell_type": "code",
      "execution_count": null,
      "metadata": {
        "id": "Us15zGxG0OGa"
      },
      "outputs": [],
      "source": [
        "# REDE NEURAL ARTIFICIAL"
      ]
    },
    {
      "cell_type": "code",
      "source": [
        "import pandas as pd\n",
        "import numpy as np\n",
        "from sklearn.model_selection import train_test_split\n",
        "from sklearn.preprocessing import LabelEncoder, StandardScaler\n",
        "from sklearn.metrics import accuracy_score, f1_score, recall_score, confusion_matrix"
      ],
      "metadata": {
        "id": "cWqr1KTS0f3o"
      },
      "execution_count": null,
      "outputs": []
    },
    {
      "cell_type": "code",
      "source": [
        "# BIBLIOTECAS DO KERAS\n",
        "from keras.models import Sequential\n",
        "from keras.layers import Dense, Dropout"
      ],
      "metadata": {
        "id": "dJc1koOu03O3"
      },
      "execution_count": null,
      "outputs": []
    },
    {
      "cell_type": "code",
      "source": [
        "df = pd.read_csv('Churn_treino.csv', sep=\";\")\n",
        "df"
      ],
      "metadata": {
        "collapsed": true,
        "id": "nR34YrI11O71"
      },
      "execution_count": null,
      "outputs": []
    },
    {
      "cell_type": "code",
      "source": [
        "# SEPARANDO A CLASSE DOS ATRIBUTOS\n",
        "X = df.drop(\"Exited\", axis=1)\n",
        "y = df[\"Exited\"]"
      ],
      "metadata": {
        "id": "LdNoP7VX2Rer"
      },
      "execution_count": null,
      "outputs": []
    },
    {
      "cell_type": "code",
      "source": [
        "# PADRONIZANDO OS VALORES NUMÉRICOS\n",
        "standardScaler = StandardScaler()\n",
        "numerical = X.select_dtypes(include=['int64', 'float64']).columns\n",
        "X[numerical] = standardScaler.fit_transform(X[numerical])"
      ],
      "metadata": {
        "id": "RQWoXvX43ERu"
      },
      "execution_count": null,
      "outputs": []
    },
    {
      "cell_type": "code",
      "source": [
        "X"
      ],
      "metadata": {
        "id": "ayQcujMu3qcr"
      },
      "execution_count": null,
      "outputs": []
    },
    {
      "cell_type": "code",
      "source": [
        "# CODIFICANDO VALORES NÃO NUMÉRICOS -> SE A CLASSE JÁ NÃO ESTIVESSE CODIFICADA, ELA TMB PRECISARIA SER\n",
        "labelEncoder = LabelEncoder()\n",
        "categorical = X.select_dtypes(include='object').columns\n",
        "for col in categorical:\n",
        "  X[col] = labelEncoder.fit_transform(X[col])"
      ],
      "metadata": {
        "id": "TCx7RgKg4Z8T"
      },
      "execution_count": null,
      "outputs": []
    },
    {
      "cell_type": "code",
      "source": [
        "X"
      ],
      "metadata": {
        "id": "1vY3HYfT4zKW"
      },
      "execution_count": null,
      "outputs": []
    },
    {
      "cell_type": "code",
      "source": [
        "X_treino, X_teste, y_treino, y_teste = train_test_split(X, y, test_size=0.3, random_state=0)"
      ],
      "metadata": {
        "id": "naj1W_6X5DLc"
      },
      "execution_count": null,
      "outputs": []
    },
    {
      "cell_type": "code",
      "source": [
        "# MONTANDO A TOPOLOGIA REDE NEURAL\n",
        "modelo = Sequential()\n",
        "\n",
        "# ADICIONANDO CAMADAS OCULTAS\n",
        "modelo.add(Dense(units=64, activation='relu', input_dim=X_treino.shape[1])) # camada densa -> full connected // input_dim -> nº de elementos da camada de entrada\n",
        "modelo.add(Dropout(0.4)) # camada dropout\n",
        "modelo.add(Dense(units=32, activation='relu'))\n",
        "modelo.add(Dropout(0.4))\n",
        "modelo.add(Dense(units=64, activation='relu'))\n",
        "modelo.add(Dropout(0.4))\n",
        "modelo.add(Dense(units=1, activation='sigmoid')) # camada final"
      ],
      "metadata": {
        "id": "wPKUpamE5oRS"
      },
      "execution_count": null,
      "outputs": []
    },
    {
      "cell_type": "code",
      "source": [
        "# COMPILAÇÃO DO MODELO\n",
        "modelo.compile(optimizer='adam', loss='binary_crossentropy', metrics=['accuracy'])\n",
        "\n",
        "# MOSTRA A EVOLUÇÃO DO MODELO NA ACURÁCIA E NA LOSS FUNCTION A CADA EPOCH\n",
        "modelo.fit(X_treino, y_treino, epochs=50, batch_size=32)"
      ],
      "metadata": {
        "collapsed": true,
        "id": "SBQfaGZe7MG-"
      },
      "execution_count": null,
      "outputs": []
    },
    {
      "cell_type": "code",
      "source": [
        "previsoes = modelo.predict(X_teste)\n",
        "previsoes"
      ],
      "metadata": {
        "id": "OiByMl4h791A"
      },
      "execution_count": null,
      "outputs": []
    },
    {
      "cell_type": "code",
      "source": [
        "# TRANSFORMANDO AS PREVISÕES EM 0 E 1\n",
        "y_pred = (previsoes > 0.5).astype('int32')\n",
        "y_pred"
      ],
      "metadata": {
        "id": "uQPE0JV38eTY"
      },
      "execution_count": null,
      "outputs": []
    },
    {
      "cell_type": "code",
      "source": [
        "print('Acurácia: ', accuracy_score(y_teste, y_pred))\n",
        "print('F1: ', f1_score(y_teste, y_pred))\n",
        "print('Recall: ', recall_score(y_teste, y_pred))\n",
        "print('Matriz de Confusão: ', confusion_matrix(y_teste, y_pred))"
      ],
      "metadata": {
        "id": "q5B1ck4y9Bp5"
      },
      "execution_count": null,
      "outputs": []
    }
  ]
}