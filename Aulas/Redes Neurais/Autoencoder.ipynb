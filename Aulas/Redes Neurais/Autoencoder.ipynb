{
  "nbformat": 4,
  "nbformat_minor": 0,
  "metadata": {
    "colab": {
      "provenance": [],
      "gpuType": "T4"
    },
    "kernelspec": {
      "name": "python3",
      "display_name": "Python 3"
    },
    "language_info": {
      "name": "python"
    },
    "accelerator": "GPU"
  },
  "cells": [
    {
      "cell_type": "code",
      "execution_count": null,
      "metadata": {
        "id": "QnADrFMOTIHu"
      },
      "outputs": [],
      "source": [
        "import numpy as np\n",
        "import matplotlib.pyplot as plt\n",
        "from keras.datasets import mnist\n",
        "from keras.models import Sequential, Model\n",
        "from keras.layers import Dense, Dropout, Input"
      ]
    },
    {
      "cell_type": "code",
      "source": [
        "(X_train, _), (X_test, _) = mnist.load_data()"
      ],
      "metadata": {
        "id": "B--ZSpgsUAkL"
      },
      "execution_count": null,
      "outputs": []
    },
    {
      "cell_type": "code",
      "source": [
        "X_train.shape"
      ],
      "metadata": {
        "id": "HlNqkHMqUkP7"
      },
      "execution_count": null,
      "outputs": []
    },
    {
      "cell_type": "code",
      "source": [
        "X_train[4]"
      ],
      "metadata": {
        "id": "T6YOkP2qUqsr"
      },
      "execution_count": null,
      "outputs": []
    },
    {
      "cell_type": "code",
      "source": [
        "# PARA VISUALIZAR UMA DAS IMAGENS\n",
        "plt.imshow(X_train[4], cmap='gray')"
      ],
      "metadata": {
        "id": "bAi93DmsVUmW"
      },
      "execution_count": null,
      "outputs": []
    },
    {
      "cell_type": "code",
      "source": [
        "# NORMALIZANDO OS DADOS\n",
        "X_train = X_train.astype(\"float32\") / 255.0\n",
        "X_test = X_test.astype(\"float32\") / 255.0"
      ],
      "metadata": {
        "id": "fWFismQJViXf"
      },
      "execution_count": null,
      "outputs": []
    },
    {
      "cell_type": "code",
      "source": [
        "# RESHAPE DOS DADOS PARA APENAS UMA DIMENÇÃO -> REQUISITO DE UMA REDE NEURAL\n",
        "X_train = X_train.reshape(len(X_train), np.prod(X_train.shape[1:]))\n",
        "X_test = X_test.reshape(len(X_test), np.prod(X_test.shape[1:]))"
      ],
      "metadata": {
        "id": "-1-JVengWKQ4"
      },
      "execution_count": null,
      "outputs": []
    },
    {
      "cell_type": "code",
      "source": [
        "# CRIANDO DADOS COM RUÍDO -> PODEM PASSAR DE 0 E 1 (NORMALIZAÇÃO DOS DADOS ORIGINAIS)\n",
        "X_train_noise = X_train + 0.5 * np.random.normal(loc=0.0, scale=1.0, size=X_train.shape)\n",
        "X_test_noise = X_test + 0.5 * np.random.normal(loc=0.0, scale=1.0, size=X_test.shape)"
      ],
      "metadata": {
        "id": "wlfWRpssWzgJ"
      },
      "execution_count": null,
      "outputs": []
    },
    {
      "cell_type": "code",
      "source": [
        "# GARANTINDO QUE NÃO HAJA DADOS FORA DA ESCALA (SE ESTIVER VAI SER CLIPADO)\n",
        "X_train_noise = np.clip(X_train_noise, 0.0, 1.0)\n",
        "X_test_noise = np.clip(X_test_noise, 0.0, 1.0)"
      ],
      "metadata": {
        "id": "2ahzskE6YCmQ"
      },
      "execution_count": null,
      "outputs": []
    },
    {
      "cell_type": "code",
      "source": [
        "# CONTRUÇÃO DO AUTOENCODER\n",
        "inputs = Input(shape=(784,))\n",
        "encoder = Dense(32, activation='relu')(inputs)\n",
        "decoder = Dense(784, activation='sigmoid')(encoder)\n",
        "\n",
        "autoencoder = Model(inputs, decoder)\n",
        "autoencoder.compile(optimizer='adam', loss='binary_crossentropy')\n",
        "autoencoder.fit(X_train_noise, X_train, epochs=100, batch_size=256, shuffle=True, validation_data=(X_test_noise, X_test))"
      ],
      "metadata": {
        "id": "O939pwmEYuZM"
      },
      "execution_count": null,
      "outputs": []
    },
    {
      "cell_type": "code",
      "source": [
        "idx = np.random.randint(X_test.shape[0])\n",
        "original_img = X_test[idx]\n",
        "\n",
        "noisy_img = original_img + 0.5 * np.random.normal(loc=0.0, scale=1.0, size=original_img.shape)\n",
        "noisy_img = np.clip(noisy_img, 0.0, 1.0)\n",
        "\n",
        "denoised_img = autoencoder.predict(np.expand_dims(noisy_img, axis=0))\n",
        "\n",
        "denoised_img = denoised_img.reshape((28,28))"
      ],
      "metadata": {
        "id": "H8IMd3ETdQx-"
      },
      "execution_count": null,
      "outputs": []
    },
    {
      "cell_type": "code",
      "source": [
        "plt.figure(figsize=(10,4))\n",
        "\n",
        "plt.subplot(1,3,1)\n",
        "plt.imshow(original_img.reshape(28,28), cmap='gray')\n",
        "plt.title(\"Imagem Original\")\n",
        "plt.axis(\"off\")\n",
        "\n",
        "plt.subplot(1,3,2)\n",
        "plt.imshow(noisy_img.reshape(28,28), cmap='gray')\n",
        "plt.title(\"Imagem com Ruído\")\n",
        "plt.axis(\"off\")\n",
        "\n",
        "plt.subplot(1,3,3)\n",
        "plt.imshow(denoised_img, cmap='gray')\n",
        "plt.title(\"Imagem com Ruído Removido\")\n",
        "plt.axis(\"off\")"
      ],
      "metadata": {
        "id": "C2DgULRAfdBm"
      },
      "execution_count": null,
      "outputs": []
    }
  ]
}