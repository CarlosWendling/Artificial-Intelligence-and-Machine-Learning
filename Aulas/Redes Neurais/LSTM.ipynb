{
  "nbformat": 4,
  "nbformat_minor": 0,
  "metadata": {
    "colab": {
      "provenance": [],
      "gpuType": "T4"
    },
    "kernelspec": {
      "name": "python3",
      "display_name": "Python 3"
    },
    "language_info": {
      "name": "python"
    },
    "accelerator": "GPU"
  },
  "cells": [
    {
      "cell_type": "code",
      "execution_count": null,
      "metadata": {
        "id": "f76UB9bgKl4N"
      },
      "outputs": [],
      "source": [
        "import numpy as np\n",
        "import matplotlib.pyplot as plt\n",
        "import pandas as pd\n",
        "from keras.models import Sequential\n",
        "from keras.layers import Dense, Dropout, LSTM\n",
        "from sklearn.preprocessing import MinMaxScaler\n",
        "from keras.callbacks import EarlyStopping"
      ]
    },
    {
      "cell_type": "code",
      "source": [
        "dataset_train = pd.read_csv('Google_Stock_Price_Train.csv')\n",
        "dataset_train"
      ],
      "metadata": {
        "id": "zZh2jP1fKm1c"
      },
      "execution_count": null,
      "outputs": []
    },
    {
      "cell_type": "code",
      "source": [
        "dataset_train.shape"
      ],
      "metadata": {
        "id": "l1tb9aIhK88R"
      },
      "execution_count": null,
      "outputs": []
    },
    {
      "cell_type": "code",
      "source": [
        "# SEPARANDO O ATRIBUTO 'OPEN'\n",
        "training_set = dataset_train.iloc[:,1:2].values\n",
        "training_set"
      ],
      "metadata": {
        "id": "5tkdSMZQLDVd"
      },
      "execution_count": null,
      "outputs": []
    },
    {
      "cell_type": "code",
      "source": [
        "# DEIXANDO OS VALORES EM ESCALA\n",
        "sc = MinMaxScaler(feature_range=(0,1))\n",
        "training_set_scaled = sc.fit_transform(training_set)\n",
        "training_set_scaled"
      ],
      "metadata": {
        "id": "qt7cXB77LFAE"
      },
      "execution_count": null,
      "outputs": []
    },
    {
      "cell_type": "code",
      "source": [
        "# ARMAZENANDO OS DADOS EM FORMA TABULAR -> PARA OBTER OS DADOS DOS ÚLTIMOS 60 DIAS\n",
        "X_train = []\n",
        "y_train = []\n",
        "for i in range(60, 1258):\n",
        "  X_train.append(training_set_scaled[i-60:i,0])\n",
        "  y_train.append(training_set_scaled[i,0])\n",
        "X_train, y_train = np.array(X_train), np.array(y_train)"
      ],
      "metadata": {
        "id": "aWTt5j7SLG3B"
      },
      "execution_count": null,
      "outputs": []
    },
    {
      "cell_type": "code",
      "source": [
        "print(X_train)"
      ],
      "metadata": {
        "id": "U4BcqZmSLI35"
      },
      "execution_count": null,
      "outputs": []
    },
    {
      "cell_type": "code",
      "source": [
        "X_train.shape"
      ],
      "metadata": {
        "id": "49o7gysKLNo9"
      },
      "execution_count": null,
      "outputs": []
    },
    {
      "cell_type": "code",
      "source": [
        "# REDIMENSIONANDO OS DADOS DE TREINO PARA O FORMATO QUE O KERAS EXIGE COM O LSTM\n",
        "X_train = np.reshape(X_train, (X_train.shape[0], X_train.shape[1], 1))"
      ],
      "metadata": {
        "id": "kW44kMVDLPUk"
      },
      "execution_count": null,
      "outputs": []
    },
    {
      "cell_type": "code",
      "source": [
        "X_train.shape"
      ],
      "metadata": {
        "id": "EfeVcg2lLQ22"
      },
      "execution_count": null,
      "outputs": []
    },
    {
      "cell_type": "code",
      "source": [
        "modelo = Sequential()\n",
        "modelo.add(LSTM(units=50, return_sequences = True, input_shape = (X_train.shape[1],1)))\n",
        "modelo.add(Dropout(0.2))\n",
        "modelo.add(LSTM(units=50, return_sequences = True))\n",
        "modelo.add(Dropout(0.2))\n",
        "modelo.add(LSTM(units=50, return_sequences = True))\n",
        "modelo.add(Dropout(0.2))\n",
        "modelo.add(LSTM(units=50))\n",
        "modelo.add(Dropout(0.2))\n",
        "modelo.add(Dense(units=1))"
      ],
      "metadata": {
        "id": "NVapQqYoLTWO"
      },
      "execution_count": null,
      "outputs": []
    },
    {
      "cell_type": "code",
      "source": [
        "modelo.compile(optimizer=\"adam\", loss='mean_squared_error')\n",
        "es = EarlyStopping(monitor='loss', mode='min', verbose=1, patience=30)\n",
        "\n",
        "# MODELO CRIADO E TENDO O EARLYSTOPPING PARA PREVENIR O OVERFITTING\n",
        "modelo.fit(X_train, y_train, epochs=500, batch_size=32, callbacks=[es])"
      ],
      "metadata": {
        "id": "riF3anjKLVio"
      },
      "execution_count": null,
      "outputs": []
    },
    {
      "cell_type": "code",
      "source": [
        "dataset_test = pd.read_csv(\"Google_Stock_Price_Test.csv\")\n",
        "real_stock_price = dataset_test.iloc[:,1:2].values"
      ],
      "metadata": {
        "id": "fi3YhxCxLX5C"
      },
      "execution_count": null,
      "outputs": []
    },
    {
      "cell_type": "code",
      "source": [
        "dataset_total = pd.concat((dataset_train['Open'], dataset_test['Open']), axis=0)"
      ],
      "metadata": {
        "id": "RpNq5WbeQGF5"
      },
      "execution_count": null,
      "outputs": []
    },
    {
      "cell_type": "code",
      "source": [
        "inputs = dataset_total[len(dataset_total)-len(dataset_test) - 60:].values\n",
        "inputs"
      ],
      "metadata": {
        "id": "j77bp47DQaR-"
      },
      "execution_count": null,
      "outputs": []
    },
    {
      "cell_type": "code",
      "source": [
        "inputs = inputs.reshape(-1,1)\n",
        "inputs"
      ],
      "metadata": {
        "id": "cd77LkTAQdR8"
      },
      "execution_count": null,
      "outputs": []
    },
    {
      "cell_type": "code",
      "source": [
        "inputs = sc.transform(inputs)\n",
        "X_test = []\n",
        "for i in range(60,80):\n",
        "  X_test.append(inputs[i-60:i,0])\n",
        "X_test = np.array(X_test)\n",
        "X_test = np.reshape(X_test, (X_test.shape[0], X_test.shape[1],1))\n",
        "predicted_stock_price = modelo.predict(X_test)\n",
        "predicted_stock_price = sc.inverse_transform(predicted_stock_price)"
      ],
      "metadata": {
        "id": "ujJtFEgkQe_l"
      },
      "execution_count": null,
      "outputs": []
    },
    {
      "cell_type": "code",
      "source": [
        "plt.plot(real_stock_price, color='red', label=\"Dados Reais de Ações da Google\")\n",
        "plt.plot(predicted_stock_price, color='blue', label=\"Dados Previstos de Ações da Google\")\n",
        "plt.title(\"Previsões de Ações da Google\")\n",
        "plt.xlabel(\"Tempo\")\n",
        "plt.ylabel(\"Preços de Ações da Google\")\n",
        "plt.legend()\n",
        "plt.show()"
      ],
      "metadata": {
        "id": "NEhOyDr9Qgi4"
      },
      "execution_count": null,
      "outputs": []
    }
  ]
}