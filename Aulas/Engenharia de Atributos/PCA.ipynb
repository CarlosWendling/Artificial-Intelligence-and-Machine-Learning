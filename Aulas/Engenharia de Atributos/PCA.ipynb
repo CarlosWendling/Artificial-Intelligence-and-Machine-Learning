{
  "nbformat": 4,
  "nbformat_minor": 0,
  "metadata": {
    "colab": {
      "provenance": []
    },
    "kernelspec": {
      "name": "python3",
      "display_name": "Python 3"
    },
    "language_info": {
      "name": "python"
    }
  },
  "cells": [
    {
      "cell_type": "code",
      "execution_count": null,
      "metadata": {
        "id": "N0HpkdSyjh4k"
      },
      "outputs": [],
      "source": [
        "from sklearn.model_selection import train_test_split\n",
        "from sklearn.metrics import accuracy_score\n",
        "from sklearn.decomposition import PCA\n",
        "from sklearn.ensemble import RandomForestClassifier\n",
        "from sklearn.preprocessing import StandardScaler\n",
        "from sklearn import datasets"
      ]
    },
    {
      "cell_type": "code",
      "source": [
        "iris = datasets.load_iris()\n",
        "previsores = iris.data\n",
        "classe = iris.target\n",
        "previsores"
      ],
      "metadata": {
        "id": "MaUZgPv1kHoo"
      },
      "execution_count": null,
      "outputs": []
    },
    {
      "cell_type": "code",
      "source": [
        "# DADOS ESCALACIONADOS\n",
        "sc = StandardScaler()\n",
        "previsores = sc.fit_transform(previsores)\n",
        "previsores"
      ],
      "metadata": {
        "id": "4XSwJ2wYklHC"
      },
      "execution_count": null,
      "outputs": []
    },
    {
      "cell_type": "code",
      "source": [
        "# DIVIDINDO OS DADOS ENTRE TREINO E TESTE\n",
        "X_treinamento, X_teste, y_treinamento, y_teste = train_test_split(previsores, classe, test_size=0.3, random_state=123)"
      ],
      "metadata": {
        "id": "g_wqiK1Fk1JH"
      },
      "execution_count": null,
      "outputs": []
    },
    {
      "cell_type": "code",
      "source": [
        "# CRIANDO MODELO\n",
        "floresta = RandomForestClassifier(n_estimators=100, random_state=123)\n",
        "# TREINANDO O MODELO\n",
        "floresta.fit(X_treinamento, y_treinamento)\n",
        "\n",
        "previsoes = floresta.predict(X_teste)\n",
        "taxa_acerto = accuracy_score(y_teste, previsoes)\n",
        "taxa_acerto"
      ],
      "metadata": {
        "id": "36JIdTZ9lRYv"
      },
      "execution_count": null,
      "outputs": []
    },
    {
      "cell_type": "code",
      "source": [
        "# CRIANDO O PCA\n",
        "\n",
        "# Nº COMPONENTES SEMPRE PRECISA SER MENOR QUE O ORIGINAL\n",
        "pca = PCA(n_components=3)\n",
        "previsores = pca.fit_transform(previsores)\n",
        "previsores\n",
        "\n",
        "# 3 ATRIBUTOS SINTÉTICOS FORAM CRIADOS A PARTIR DOS 4 ORIGINAIS"
      ],
      "metadata": {
        "id": "mvRyROxNmTpT"
      },
      "execution_count": null,
      "outputs": []
    },
    {
      "cell_type": "code",
      "source": [
        "# DIVIDINDO OS DADOS DE NOVO ENTRE TREINO E TESTE (PQ AGORA SÃO DADOS DIFERENTES)\n",
        "X_treinamento, X_teste, y_treinamento, y_teste = train_test_split(previsores, classe, test_size=0.3, random_state=123)"
      ],
      "metadata": {
        "id": "L7TIy9YxnaPB"
      },
      "execution_count": null,
      "outputs": []
    },
    {
      "cell_type": "code",
      "source": [
        "# CRIANDO MODELO DE NOVO\n",
        "floresta = RandomForestClassifier(n_estimators=100, random_state=1234)\n",
        "# TREINANDO O MODELO DE NOVO\n",
        "floresta.fit(X_treinamento, y_treinamento)\n",
        "\n",
        "previsoes = floresta.predict(X_teste)\n",
        "taxa_acerto = accuracy_score(y_teste, previsoes)\n",
        "taxa_acerto"
      ],
      "metadata": {
        "id": "SC3ZzdQ_nrvM"
      },
      "execution_count": null,
      "outputs": []
    }
  ]
}