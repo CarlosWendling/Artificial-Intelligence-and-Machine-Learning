{
  "nbformat": 4,
  "nbformat_minor": 0,
  "metadata": {
    "colab": {
      "provenance": []
    },
    "kernelspec": {
      "name": "python3",
      "display_name": "Python 3"
    },
    "language_info": {
      "name": "python"
    }
  },
  "cells": [
    {
      "cell_type": "code",
      "execution_count": null,
      "metadata": {
        "id": "TlS3RTI5makj"
      },
      "outputs": [],
      "source": [
        "import pandas as pd\n",
        "import numpy as np\n",
        "from sklearn.preprocessing import LabelEncoder\n",
        "from imblearn.over_sampling import SMOTENC"
      ]
    },
    {
      "cell_type": "code",
      "source": [
        "credito = pd.read_csv('credit_simple.csv', sep=\";\")\n",
        "credito.head()"
      ],
      "metadata": {
        "id": "Z73GyS2km99w"
      },
      "execution_count": null,
      "outputs": []
    },
    {
      "cell_type": "code",
      "source": [
        "# VENDO QUÃO DESBALANCEADO É A CLASSE\n",
        "count = credito.groupby(['CLASSE']).size()\n",
        "count"
      ],
      "metadata": {
        "id": "r3Cu_Uklntqu"
      },
      "execution_count": null,
      "outputs": []
    },
    {
      "cell_type": "code",
      "source": [
        "# SEPAARANDO A VAR DEPENDENTE DAS INDEPENDENTES\n",
        "y = credito['CLASSE'].values\n",
        "X = credito.iloc[:, :-1].values"
      ],
      "metadata": {
        "id": "K0nOkNgpoD3u"
      },
      "execution_count": null,
      "outputs": []
    },
    {
      "cell_type": "code",
      "source": [
        "# CODIFICANDO AS VAR INDEPENDENTES CATEGÓRICAS\n",
        "label_encoder = LabelEncoder()\n",
        "\n",
        "for i in range(X.shape[1]):\n",
        "  if X[:,i].dtype == 'object':\n",
        "    X[:,i] = label_encoder.fit_transform(X[:,i])"
      ],
      "metadata": {
        "id": "vrz8Z1EtoXlD"
      },
      "execution_count": null,
      "outputs": []
    },
    {
      "cell_type": "code",
      "source": [
        "# FAZENDO OVERSAMPLING PARA CRIAR DADOS ARTIFICIAIS E BALANCEAR A CLASSE\n",
        "sm = SMOTENC(random_state=0, categorical_features=[3,5,6])\n",
        "X_res, y_res = sm.fit_resample(X, y)"
      ],
      "metadata": {
        "id": "2yPzhkEHo1uR"
      },
      "execution_count": null,
      "outputs": []
    },
    {
      "cell_type": "code",
      "source": [
        "X_res"
      ],
      "metadata": {
        "id": "TPVfp53tpe6U"
      },
      "execution_count": null,
      "outputs": []
    },
    {
      "cell_type": "code",
      "source": [
        "df = pd.DataFrame({'CLASSE': y_res})\n",
        "df.value_counts()"
      ],
      "metadata": {
        "id": "YNURuxZFphMl"
      },
      "execution_count": null,
      "outputs": []
    }
  ]
}