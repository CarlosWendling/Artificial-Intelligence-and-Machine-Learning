{
  "nbformat": 4,
  "nbformat_minor": 0,
  "metadata": {
    "colab": {
      "provenance": []
    },
    "kernelspec": {
      "name": "python3",
      "display_name": "Python 3"
    },
    "language_info": {
      "name": "python"
    }
  },
  "cells": [
    {
      "cell_type": "code",
      "execution_count": null,
      "metadata": {
        "id": "QnJxT31KH_T0"
      },
      "outputs": [],
      "source": [
        "import pandas as pd\n",
        "from sklearn.model_selection import train_test_split\n",
        "from sklearn.naive_bayes import GaussianNB\n",
        "from sklearn.metrics import accuracy_score\n",
        "from sklearn.feature_selection import chi2, SelectKBest"
      ]
    },
    {
      "cell_type": "code",
      "source": [
        "anuncio = pd.read_csv('ad.data', header=None)\n",
        "anuncio.shape"
      ],
      "metadata": {
        "id": "BhTz4uGSI1Cx"
      },
      "execution_count": null,
      "outputs": []
    },
    {
      "cell_type": "code",
      "source": [
        "# SEPARANDO A VAR DEPENDENTE DAS INDEPENDENTES\n",
        "X = anuncio.iloc[:, :-1].values\n",
        "y = anuncio.iloc[:, -1].values"
      ],
      "metadata": {
        "id": "ytkq_lLrJLnt"
      },
      "execution_count": null,
      "outputs": []
    },
    {
      "cell_type": "code",
      "source": [
        "X"
      ],
      "metadata": {
        "id": "5WqI5Sk2JkeE"
      },
      "execution_count": null,
      "outputs": []
    },
    {
      "cell_type": "code",
      "source": [
        "y"
      ],
      "metadata": {
        "id": "xCsw2BWgJlUc"
      },
      "execution_count": null,
      "outputs": []
    },
    {
      "cell_type": "code",
      "source": [
        "X_treino, X_teste, y_treino, y_teste = train_test_split(X, y, test_size=0.3, random_state=0)"
      ],
      "metadata": {
        "id": "e9cis1wAJ8x0"
      },
      "execution_count": null,
      "outputs": []
    },
    {
      "cell_type": "code",
      "source": [
        "# MODELO 1 SEM A SELEÇÃO DE ATRIBUTOS IMPORTANTES\n",
        "modelo1 = GaussianNB()\n",
        "modelo1.fit(X_treino, y_treino)\n",
        "previsoes1 = modelo1.predict(X_teste)\n",
        "print(accuracy_score(y_teste, previsoes1))"
      ],
      "metadata": {
        "id": "Q2lM_H9tK1_s"
      },
      "execution_count": null,
      "outputs": []
    },
    {
      "cell_type": "code",
      "source": [
        "# FAZENDO A SELEÇÃO DE ATRIBUTOS -> k=nº de atributos que eu quero\n",
        "selecao = SelectKBest(chi2, k=7)\n",
        "# RETORNA AS COLUNAS SELECIONADAS\n",
        "X_novo = selecao.fit_transform(X, y)\n",
        "X_novo"
      ],
      "metadata": {
        "id": "99hI5YvULVAV"
      },
      "execution_count": null,
      "outputs": []
    },
    {
      "cell_type": "code",
      "source": [
        "X_novo.shape"
      ],
      "metadata": {
        "id": "s1Vzx4KwL9iT"
      },
      "execution_count": null,
      "outputs": []
    },
    {
      "cell_type": "code",
      "source": [
        "# DIZ SE A COLUNA FOI SELECIONADA OU NÃO\n",
        "print(selecao.get_support())"
      ],
      "metadata": {
        "id": "dMRxQ8ExMDYy"
      },
      "execution_count": null,
      "outputs": []
    },
    {
      "cell_type": "code",
      "source": [
        "# REALIZANDO A DIVISÃO DE DADOS PARA TREINAR O MODELO2 SÓ COM OS ATRIBUTOS SELECIONADOS\n",
        "X_treino, X_teste, y_treino, y_teste = train_test_split(X_novo, y, test_size=0.3, random_state=0)"
      ],
      "metadata": {
        "id": "qJWt4GAoMPPo"
      },
      "execution_count": null,
      "outputs": []
    },
    {
      "cell_type": "code",
      "source": [
        "# MODELO 2 COM A SELEÇÃO DE ATRIBUTOS IMPORTANTES\n",
        "modelo2 = GaussianNB()\n",
        "modelo2.fit(X_treino, y_treino)\n",
        "previsoes2 = modelo2.predict(X_teste)\n",
        "print(accuracy_score(y_teste, previsoes2))"
      ],
      "metadata": {
        "id": "nKMcf6ytMkIo"
      },
      "execution_count": null,
      "outputs": []
    }
  ]
}