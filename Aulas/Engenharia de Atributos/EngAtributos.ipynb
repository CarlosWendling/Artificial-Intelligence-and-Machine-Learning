{
  "nbformat": 4,
  "nbformat_minor": 0,
  "metadata": {
    "colab": {
      "provenance": []
    },
    "kernelspec": {
      "name": "python3",
      "display_name": "Python 3"
    },
    "language_info": {
      "name": "python"
    }
  },
  "cells": [
    {
      "cell_type": "code",
      "execution_count": null,
      "metadata": {
        "id": "_m3csJ4aLptG"
      },
      "outputs": [],
      "source": [
        "import pandas as pd\n",
        "from sklearn.preprocessing import LabelEncoder, StandardScaler"
      ]
    },
    {
      "cell_type": "code",
      "source": [
        "dataset = pd.read_csv('credit_simple.csv', sep=';')\n",
        "dataset.shape"
      ],
      "metadata": {
        "id": "LHse-SMfMFHe"
      },
      "execution_count": null,
      "outputs": []
    },
    {
      "cell_type": "code",
      "source": [
        "dataset.head()"
      ],
      "metadata": {
        "id": "-QaZwuBSNQLr"
      },
      "execution_count": null,
      "outputs": []
    },
    {
      "cell_type": "code",
      "source": [
        "# SEPARANDO A CLASSE DO RESTO\n",
        "y = dataset['CLASSE']\n",
        "X = dataset.iloc[:, :-1]"
      ],
      "metadata": {
        "id": "FWkM-PDGNakB"
      },
      "execution_count": null,
      "outputs": []
    },
    {
      "cell_type": "code",
      "source": [
        "# LIMPEZA DE DADOS"
      ],
      "metadata": {
        "id": "Z1jfiue0PQiZ"
      },
      "execution_count": null,
      "outputs": []
    },
    {
      "cell_type": "code",
      "source": [
        "# VENDO QUANTOS DADOS NULOS EU TENHO NO 'X'\n",
        "X.isnull().sum()"
      ],
      "metadata": {
        "id": "n9sQnNnxNmv6"
      },
      "execution_count": null,
      "outputs": []
    },
    {
      "cell_type": "code",
      "source": [
        "# PREENCHENDO OS VALORES NULOS COM A MEDIANA DAQUELE ATRIBUTO\n",
        "mediana = X['SALDO_ATUAL'].median()\n",
        "\n",
        "X['SALDO_ATUAL'].fillna(mediana, inplace=True)\n",
        "\n",
        "X.isnull().sum()"
      ],
      "metadata": {
        "id": "5_FnvfTrOnDA"
      },
      "execution_count": null,
      "outputs": []
    },
    {
      "cell_type": "code",
      "source": [
        "# VERIFICANDO A MODA DO ATRIBUTO ESTADO CIVIL\n",
        "agrupado = X.groupby(['ESTADOCIVIL']).size()\n",
        "agrupado"
      ],
      "metadata": {
        "id": "UgPlpCGUPLz7"
      },
      "execution_count": null,
      "outputs": []
    },
    {
      "cell_type": "code",
      "source": [
        "# ADICIONANDO A MODA AOS VALORES NULOS\n",
        "X['ESTADOCIVIL'].fillna('masculino solteiro', inplace=True)\n",
        "X.isnull().sum()"
      ],
      "metadata": {
        "id": "oKKGOln-Pn8u"
      },
      "execution_count": null,
      "outputs": []
    },
    {
      "cell_type": "code",
      "source": [
        "# ELIMINANDO OUTLIERS\n",
        "\n",
        "# CALCULANDO O DESVIO PADRÃO\n",
        "desv = X['SALDO_ATUAL'].std()\n",
        "desv"
      ],
      "metadata": {
        "id": "uG5gii5NP8ij"
      },
      "execution_count": null,
      "outputs": []
    },
    {
      "cell_type": "code",
      "source": [
        "# VENDO SE EXISTE INSTÂNCIAS QUE SÃO MAIORES OU IGUAIS A 2 DESV. PAD.\n",
        "X.loc[X['SALDO_ATUAL']>=2 * desv, 'SALDO_ATUAL']"
      ],
      "metadata": {
        "id": "yMrq7IFGQjby"
      },
      "execution_count": null,
      "outputs": []
    },
    {
      "cell_type": "code",
      "source": [
        "# ATRIBUIR A MEDIANA DO 'SALDO_ATUAL' PARA OS OUTLIERS\n",
        "X.loc[X['SALDO_ATUAL']>=2 * desv, 'SALDO_ATUAL'] = mediana"
      ],
      "metadata": {
        "id": "6r8qgaAJQ-VU"
      },
      "execution_count": null,
      "outputs": []
    },
    {
      "cell_type": "code",
      "source": [
        "X.loc[X['SALDO_ATUAL']>=2 * desv]"
      ],
      "metadata": {
        "id": "BejkxtkNRiKP"
      },
      "execution_count": null,
      "outputs": []
    },
    {
      "cell_type": "code",
      "source": [
        "agrupado = X.groupby(['PROPOSITO']).size()\n",
        "agrupado"
      ],
      "metadata": {
        "id": "iBXwDqx3caYX"
      },
      "execution_count": null,
      "outputs": []
    },
    {
      "cell_type": "code",
      "source": [
        "# BINNING\n",
        "X.loc[X['PROPOSITO'] == 'Eletrodomésticos', 'PROPOSITO'] = 'outros'\n",
        "X.loc[X['PROPOSITO'] == 'qualificação', 'PROPOSITO'] = 'outros'\n",
        "agrupado = X.groupby(['PROPOSITO']).size()\n",
        "agrupado"
      ],
      "metadata": {
        "id": "ntdlO_ohdQ8Z"
      },
      "execution_count": null,
      "outputs": []
    },
    {
      "cell_type": "code",
      "source": [
        "# EXTRAÇÃO DE CARACTERÍSTICAS\n",
        "X['DATA']"
      ],
      "metadata": {
        "id": "mXG7vh0Ldv7c"
      },
      "execution_count": null,
      "outputs": []
    },
    {
      "cell_type": "code",
      "source": [
        "X['DATA'] = pd.to_datetime(X['DATA'], format='%d/%m/%Y')"
      ],
      "metadata": {
        "id": "jyIcDLvBeNW-"
      },
      "execution_count": null,
      "outputs": []
    },
    {
      "cell_type": "code",
      "source": [
        "X['DATA']"
      ],
      "metadata": {
        "id": "ysQjEbVce0Zb"
      },
      "execution_count": null,
      "outputs": []
    },
    {
      "cell_type": "code",
      "source": [
        "# CRIANDO DE FATO AS NOVAS CARACTERÍSTICAS\n",
        "X['ANO'] = X['DATA'].dt.year\n",
        "X['MES'] = X['DATA'].dt.month\n",
        "X['DIASEMANA'] = X['DATA'].dt.day_name()"
      ],
      "metadata": {
        "id": "l16gT50Xe80N"
      },
      "execution_count": null,
      "outputs": []
    },
    {
      "cell_type": "code",
      "source": [
        "X['DIASEMANA']"
      ],
      "metadata": {
        "id": "-trFzRC1fPUy"
      },
      "execution_count": null,
      "outputs": []
    },
    {
      "cell_type": "code",
      "source": [
        "# CODIFICANDO CATEGORIAS (LABEL ENCODER)\n",
        "labelencoder1 = LabelEncoder()\n",
        "X['ESTADOCIVIL'] = labelencoder1.fit_transform(X['ESTADOCIVIL'])\n",
        "X['PROPOSITO'] = labelencoder1.fit_transform(X['PROPOSITO'])\n",
        "X['DIASEMANA'] = labelencoder1.fit_transform(X['DIASEMANA'])"
      ],
      "metadata": {
        "id": "V6zHeajcgnFf"
      },
      "execution_count": null,
      "outputs": []
    },
    {
      "cell_type": "code",
      "source": [
        "X.head()"
      ],
      "metadata": {
        "id": "BuNsXcTAhM-2"
      },
      "execution_count": null,
      "outputs": []
    },
    {
      "cell_type": "code",
      "source": [
        "outros = X['OUTROSPLANOSPGTO'].unique()\n",
        "outros"
      ],
      "metadata": {
        "id": "IZY9rJlGhmke"
      },
      "execution_count": null,
      "outputs": []
    },
    {
      "cell_type": "code",
      "source": [
        "# ONDE-HOT-ENCODING PARA CODIFICAR AS CATEGORIAS\n",
        "z = pd.get_dummies(X['OUTROSPLANOSPGTO'], prefix='OUTROS')\n",
        "z"
      ],
      "metadata": {
        "id": "CVqlna0zhvcq"
      },
      "execution_count": null,
      "outputs": []
    },
    {
      "cell_type": "code",
      "source": [
        "# PADRONIZANDO OS VALORES NUMÉRICOS\n",
        "sc = StandardScaler()\n",
        "m = sc.fit_transform(X.iloc[:, 0:3])\n",
        "m"
      ],
      "metadata": {
        "id": "o5V8G-PXiI6M"
      },
      "execution_count": null,
      "outputs": []
    },
    {
      "cell_type": "code",
      "source": [
        "# CONCATENANDO O DF 'z' E O OBJETO 'm' NO DF 'X'\n",
        "X = pd.concat([X, z, pd.DataFrame(m, columns=['SALDO_ATUAL_N', 'RESIDENCIADESDE_N', 'IDADE_N'])], axis=1)"
      ],
      "metadata": {
        "id": "PwrEAnImjPUv"
      },
      "execution_count": null,
      "outputs": []
    },
    {
      "cell_type": "code",
      "source": [
        "X.head()"
      ],
      "metadata": {
        "id": "JQLvCeGzka-o"
      },
      "execution_count": null,
      "outputs": []
    },
    {
      "cell_type": "code",
      "source": [
        "# DELETANDO OS ATRIBUTOS QUE EU NÃO PRECISO MAIS -> 'inplace=True' é para modificar nos dados originais\n",
        "X.drop(columns=['SALDO_ATUAL', 'RESIDENCIADESDE', 'IDADE', 'OUTROSPLANOSPGTO', 'DATA', 'OUTROS_banco'], inplace=True)"
      ],
      "metadata": {
        "id": "Sd0j06p-kc13"
      },
      "execution_count": null,
      "outputs": []
    },
    {
      "cell_type": "code",
      "source": [
        "X"
      ],
      "metadata": {
        "id": "hKxI74MOlZgp"
      },
      "execution_count": null,
      "outputs": []
    }
  ]
}