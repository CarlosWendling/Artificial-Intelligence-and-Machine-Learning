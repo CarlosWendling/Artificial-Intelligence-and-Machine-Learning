{
  "nbformat": 4,
  "nbformat_minor": 0,
  "metadata": {
    "colab": {
      "provenance": []
    },
    "kernelspec": {
      "name": "python3",
      "display_name": "Python 3"
    },
    "language_info": {
      "name": "python"
    }
  },
  "cells": [
    {
      "cell_type": "code",
      "execution_count": null,
      "metadata": {
        "id": "bo-5lc1A8ba_"
      },
      "outputs": [],
      "source": [
        "import pandas as pd\n",
        "from mlxtend.preprocessing import TransactionEncoder\n",
        "from mlxtend.frequent_patterns import apriori, association_rules"
      ]
    },
    {
      "cell_type": "code",
      "source": [
        "# PEGAR LINHA POR LINHA E SEPARAR ONDE HOUVER ','. VAI FORMAR UMA MATRIZ, EM QUE CADA LINHA É A TRANSAÇÃO DE UM CLIENTE\n",
        "with open('Transacoes.txt', 'r') as f:\n",
        "  transactions = [line.strip().split(\",\") for line in f.readlines()]\n",
        "\n",
        "transactions"
      ],
      "metadata": {
        "id": "WCHT8kbV9P6X"
      },
      "execution_count": null,
      "outputs": []
    },
    {
      "cell_type": "code",
      "source": [
        "# CRIANDO UM DF COM AS TRANSAÇÕES\n",
        "te =  TransactionEncoder()\n",
        "te_array = te.fit(transactions).transform(transactions)\n",
        "\n",
        "df = pd.DataFrame(te_array, columns=te.columns_)\n",
        "df"
      ],
      "metadata": {
        "id": "FGmOsPxW-gbY"
      },
      "execution_count": null,
      "outputs": []
    },
    {
      "cell_type": "code",
      "source": [
        "# CALCULANDO O SUPORTE DE CADA ITEM INDIVIDUALMENTE (COM UM SUPORTE MÍNIMO)\n",
        "frequent_itemsets = apriori(df, min_support=0.5, use_colnames=True)\n",
        "frequent_itemsets"
      ],
      "metadata": {
        "id": "amWyBfqo_OPH"
      },
      "execution_count": null,
      "outputs": []
    },
    {
      "cell_type": "code",
      "source": [
        "# CRIANDO AS REGRAS (COM UMA CONFIANÇA MÍNIMA)\n",
        "rules = association_rules(frequent_itemsets, metric=\"confidence\", min_threshold=0.5)\n",
        "print(rules)"
      ],
      "metadata": {
        "id": "IRAbd8yzADMz"
      },
      "execution_count": null,
      "outputs": []
    }
  ]
}