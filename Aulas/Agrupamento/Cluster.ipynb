{
  "nbformat": 4,
  "nbformat_minor": 0,
  "metadata": {
    "colab": {
      "provenance": []
    },
    "kernelspec": {
      "name": "python3",
      "display_name": "Python 3"
    },
    "language_info": {
      "name": "python"
    }
  },
  "cells": [
    {
      "cell_type": "code",
      "execution_count": null,
      "metadata": {
        "id": "Qjn0RT7zlLlg"
      },
      "outputs": [],
      "source": [
        "from sklearn import datasets\n",
        "import numpy as np\n",
        "from sklearn.preprocessing import scale\n",
        "import matplotlib.pyplot as plt\n",
        "from sklearn.cluster import KMeans"
      ]
    },
    {
      "cell_type": "code",
      "source": [
        "from hopkins import *\n",
        "from metric import *\n",
        "from visual_assessment_of_tendency import *"
      ],
      "metadata": {
        "id": "f8CRhtPKmOol"
      },
      "execution_count": null,
      "outputs": []
    },
    {
      "cell_type": "code",
      "source": [
        "# PARA IGNORAR OS AVISOS QUE CERTAS FUNÇÕES SERÃO DESCONTINUADAS\n",
        "import warnings\n",
        "warnings.filterwarnings(\"ignore\", category=FutureWarning)"
      ],
      "metadata": {
        "id": "bvq3jMHbmc8-"
      },
      "execution_count": null,
      "outputs": []
    },
    {
      "cell_type": "code",
      "source": [
        "iris = datasets.load_iris()\n",
        "# PADRONIZANDO AMBOS OS DADOS (UM DELES É CRIADO ALEATÓRIAMENTE E O OUTRO É DO IRIS)\n",
        "clust1 = scale(iris.data)\n",
        "clust2 = scale(np.random.rand(150,4))"
      ],
      "metadata": {
        "id": "gCnEgyDxm_I5"
      },
      "execution_count": null,
      "outputs": []
    },
    {
      "cell_type": "code",
      "source": [
        "print(clust2)"
      ],
      "metadata": {
        "id": "gpTcWcnxnaHS"
      },
      "execution_count": null,
      "outputs": []
    },
    {
      "cell_type": "code",
      "source": [
        "# GRÁFICO ELBOW PARA IRIS\n",
        "inertia = [] # É UMA PROPRIEDADE CRIADA JUNTO AO CLUSTER DO KMEANS -> GERAR ELA PRO Nº N DE CLUSTERS\n",
        "\n",
        "for i in range(1,8):\n",
        "  kmeans = KMeans(n_clusters=i, n_init='auto')\n",
        "  kmeans.fit(clust1)\n",
        "  inertia.append(kmeans.inertia_)\n",
        "plt.plot(range(1,8), inertia)\n",
        "plt.title(\"Elbow\")\n",
        "plt.show()"
      ],
      "metadata": {
        "id": "DSUDOFQkntEW"
      },
      "execution_count": null,
      "outputs": []
    },
    {
      "cell_type": "code",
      "source": [
        "# GRÁFICO ELBOW PARA OS DADOS ALEATÓRIOS\n",
        "inertia = []\n",
        "\n",
        "for i in range(1,8):\n",
        "  kmeans = KMeans(n_clusters=i, n_init='auto')\n",
        "  kmeans.fit(clust2)\n",
        "  inertia.append(kmeans.inertia_)\n",
        "plt.plot(range(1,8), inertia)\n",
        "plt.title(\"Elbow\")\n",
        "plt.show()"
      ],
      "metadata": {
        "id": "WTx0jGIAp0p_"
      },
      "execution_count": null,
      "outputs": []
    },
    {
      "cell_type": "code",
      "source": [
        "# ESTATÍSTICA DE HOPKINS -> PROX 0 = TENDÊNCIA DE HAVER AGRUPAMENTO | PROX 1 = TENDÊNCIA DE NÃO HAVER AGRUPAMENTO\n",
        "hopkins(clust1, 150)"
      ],
      "metadata": {
        "id": "fS6sfttGqbu9"
      },
      "execution_count": null,
      "outputs": []
    },
    {
      "cell_type": "code",
      "source": [
        "hopkins(clust2, 150)"
      ],
      "metadata": {
        "id": "6Ho1JEQwqxPi"
      },
      "execution_count": null,
      "outputs": []
    },
    {
      "cell_type": "code",
      "source": [
        "# TÉCNICAS VISUAIS"
      ],
      "metadata": {
        "id": "M12FWyTGrVbi"
      },
      "execution_count": null,
      "outputs": []
    },
    {
      "cell_type": "code",
      "source": [
        "vat(clust1)"
      ],
      "metadata": {
        "id": "LWDNrCPbq0KW"
      },
      "execution_count": null,
      "outputs": []
    },
    {
      "cell_type": "code",
      "source": [
        "vat(clust2)"
      ],
      "metadata": {
        "id": "iQQvtcQ_rA6V"
      },
      "execution_count": null,
      "outputs": []
    },
    {
      "cell_type": "code",
      "source": [
        "ivat(clust1)"
      ],
      "metadata": {
        "id": "P8n_BuqvrF4c"
      },
      "execution_count": null,
      "outputs": []
    },
    {
      "cell_type": "code",
      "source": [
        "ivat(clust2)"
      ],
      "metadata": {
        "id": "trJuOtelrNhV"
      },
      "execution_count": null,
      "outputs": []
    },
    {
      "cell_type": "code",
      "source": [
        "# TÉCNICA P/ RETORNAR O Nº IDEAL DE CLUSTERS A PARTIR DA QUALIDADE DOS DADOS\n",
        "# CLUST1\n",
        "m = assess_tendency_by_metric(clust1, 'silhouette', 5)\n",
        "print(m)\n",
        "n = assess_tendency_by_metric(clust1, 'davies_bouldin', 5)\n",
        "print(n)\n",
        "o = assess_tendency_by_metric(clust1, 'calinski_harabasz', 5)\n",
        "print(o)"
      ],
      "metadata": {
        "id": "iJ4PdqShrbIG"
      },
      "execution_count": null,
      "outputs": []
    },
    {
      "cell_type": "code",
      "source": [
        "# CLUST2\n",
        "# CLUST1\n",
        "m = assess_tendency_by_metric(clust2, 'silhouette', 5)\n",
        "print(m)\n",
        "n = assess_tendency_by_metric(clust2, 'davies_bouldin', 5)\n",
        "print(n)\n",
        "o = assess_tendency_by_metric(clust2, 'calinski_harabasz', 5)\n",
        "print(o)"
      ],
      "metadata": {
        "id": "V2McCNm8vwmk"
      },
      "execution_count": null,
      "outputs": []
    },
    {
      "cell_type": "code",
      "source": [
        "# CUSCA A MÉDIA DOS TRÊS MÉTODOS USADOS ANTES\n",
        "m = assess_tendency_by_mean_metric_score(clust1, 5)\n",
        "print(m)"
      ],
      "metadata": {
        "id": "G9Z6txCawEYM"
      },
      "execution_count": null,
      "outputs": []
    },
    {
      "cell_type": "code",
      "source": [
        "m = assess_tendency_by_mean_metric_score(clust2, 5)\n",
        "print(m)"
      ],
      "metadata": {
        "id": "YihyoYRGwMWa"
      },
      "execution_count": null,
      "outputs": []
    }
  ]
}