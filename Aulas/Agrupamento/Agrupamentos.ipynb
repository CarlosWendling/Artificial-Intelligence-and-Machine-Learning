{
  "nbformat": 4,
  "nbformat_minor": 0,
  "metadata": {
    "colab": {
      "provenance": []
    },
    "kernelspec": {
      "name": "python3",
      "display_name": "Python 3"
    },
    "language_info": {
      "name": "python"
    }
  },
  "cells": [
    {
      "cell_type": "code",
      "execution_count": null,
      "metadata": {
        "id": "Uu0bA5DA9Qb4"
      },
      "outputs": [],
      "source": [
        "from sklearn import datasets\n",
        "from sklearn.metrics import confusion_matrix\n",
        "from sklearn.cluster import KMeans, AgglomerativeClustering, DBSCAN\n",
        "import matplotlib.pyplot as plt\n",
        "from scipy.cluster.hierarchy import linkage, dendrogram"
      ]
    },
    {
      "cell_type": "code",
      "source": [
        "# DATASET DA LIB MUITO USADO PARA ML\n",
        "iris = datasets.load_iris()\n",
        "iris"
      ],
      "metadata": {
        "id": "hFeZdt4K99iZ"
      },
      "execution_count": null,
      "outputs": []
    },
    {
      "cell_type": "code",
      "source": [
        "# CRIAÇÃO DE CLUSTERS USANDO DIFERENTES ALGORITMOS E CRIANDO GRÁFICOS PARA ELES"
      ],
      "metadata": {
        "id": "vV_scQpIYRWr"
      },
      "execution_count": null,
      "outputs": []
    },
    {
      "cell_type": "code",
      "source": [
        "def plot_clusters(data, labels, title):\n",
        "  colors = ['red', 'green', 'purple', 'black']\n",
        "  plt.figure(figsize=(8,4))\n",
        "\n",
        "  # i -> range | c-> colors | l -> classes\n",
        "  for i,c,l in zip(range(-1,3), colors, ['Noise','Setosa','Versicolor','Virginica']):\n",
        "    if i == -1:\n",
        "      plt.scatter(data[labels == i, 0], data[labels == i, 3], c=colors[i], label=l, alpha=0.5, s=50, marker='x')\n",
        "    else:\n",
        "      plt.scatter(data[labels == i, 0], data[labels == i, 3], c=colors[i], label=l, alpha=0.5, s=50)\n",
        "\n",
        "  plt.legend()\n",
        "  plt.title(title)\n",
        "  plt.xlabel('Comprimento Sépala')\n",
        "  plt.ylabel('Largura da Pétala')\n",
        "  plt.show()"
      ],
      "metadata": {
        "id": "UoF0PFQJZLbH"
      },
      "execution_count": null,
      "outputs": []
    },
    {
      "cell_type": "code",
      "source": [
        "# K-MEANS\n",
        "\n",
        "kmeans = KMeans(n_clusters=3, n_init=('auto'))\n",
        "kmeans.fit(iris.data)\n",
        "print(kmeans.labels_)\n",
        "\n",
        "resultados = confusion_matrix(iris.target, kmeans.labels_)\n",
        "print(resultados)\n",
        "\n",
        "plot_clusters(iris.data, kmeans.labels_, 'Cluster K-Means')"
      ],
      "metadata": {
        "id": "89XNrzrq_v81"
      },
      "execution_count": null,
      "outputs": []
    },
    {
      "cell_type": "code",
      "source": [
        "# DBSCAN\n",
        "\n",
        "# eps -> circunferência na qual o dbscan vai buscar os pontos (ele usa densidade)\n",
        "# min_samples -> quantidade de instâncias necessárias para ser considerado um cluster, caso contrário vira ruído (-1)\n",
        "dbscan = DBSCAN(eps=0.5, min_samples=3)\n",
        "dbscan_labels = dbscan.fit_predict(iris.data)\n",
        "print(dbscan_labels)\n",
        "\n",
        "plot_clusters(iris.data, dbscan_labels, 'Cluster DBSCAN')"
      ],
      "metadata": {
        "id": "ZUns8cl7BQLT"
      },
      "execution_count": null,
      "outputs": []
    },
    {
      "cell_type": "code",
      "source": [
        "# HIERÁRQUICO\n",
        "\n",
        "agglo = AgglomerativeClustering(n_clusters=3)\n",
        "agglo_labels = agglo.fit_predict(iris.data)\n",
        "print(agglo_labels)\n",
        "\n",
        "resultados = confusion_matrix(iris.target, agglo_labels)\n",
        "print(resultados)\n",
        "\n",
        "plot_clusters(iris.data, agglo_labels, 'Cluster Hierárquico')"
      ],
      "metadata": {
        "id": "ueN4aJI-C6Uh"
      },
      "execution_count": null,
      "outputs": []
    },
    {
      "cell_type": "code",
      "source": [
        "# CRIANDO UM DENDROGAMA PARA VISUALIZAR O AGRUPAMENTO HIERÁRQUICO\n",
        "\n",
        "plt.figure(figsize=(12,6))\n",
        "plt.title(\"Cluster Hierárquico: Dendrograma\")\n",
        "plt.xlabel('Índice')\n",
        "plt.ylabel('Distância')\n",
        "\n",
        "linkage_matrix = linkage(iris.data, method='ward')\n",
        "dendrogram(linkage_matrix, truncate_mode='lastp', p=15)\n",
        "# CORTA O DENDROGRAMA ONDE VÃO SE CRIAR OS CLUSTERS\n",
        "plt.axhline(y=7, c='grey', lw=1, linestyle='dashed')\n",
        "plt.show()"
      ],
      "metadata": {
        "id": "XDZ25ycTYMYD"
      },
      "execution_count": null,
      "outputs": []
    }
  ]
}