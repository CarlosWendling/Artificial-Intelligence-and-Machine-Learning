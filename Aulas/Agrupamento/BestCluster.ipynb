{
  "nbformat": 4,
  "nbformat_minor": 0,
  "metadata": {
    "colab": {
      "provenance": []
    },
    "kernelspec": {
      "name": "python3",
      "display_name": "Python 3"
    },
    "language_info": {
      "name": "python"
    }
  },
  "cells": [
    {
      "cell_type": "code",
      "execution_count": null,
      "metadata": {
        "id": "-1wfnU2NewSO"
      },
      "outputs": [],
      "source": [
        "import numpy as np\n",
        "import pandas as pd\n",
        "from sklearn import datasets\n",
        "from sklearn.preprocessing import StandardScaler\n",
        "from sklearn.cluster import KMeans, AgglomerativeClustering, DBSCAN\n",
        "from sklearn.metrics import silhouette_score"
      ]
    },
    {
      "cell_type": "code",
      "source": [
        "def compare_algorithms(X, max_clusters):\n",
        "  # VAI ARMAZENAR OS RESULTADOS DE CADA ALGORÍTMO\n",
        "  results = []\n",
        "  cluster_range = range(2, max_clusters +1)\n",
        "\n",
        "  # KMeans\n",
        "  for n_clusters in cluster_range:\n",
        "    kmeans = KMeans(n_clusters=n_clusters, random_state=0, n_init='auto')\n",
        "    clusters = kmeans.fit_predict(X)\n",
        "    silhouette_avg = silhouette_score(X, clusters)\n",
        "    results.append(('KMeans', n_clusters, silhouette_avg))\n",
        "\n",
        "  # Agglomerative\n",
        "  for n_clusters in cluster_range:\n",
        "    agglomerative = AgglomerativeClustering(n_clusters=n_clusters)\n",
        "    clusters = agglomerative.fit_predict(X)\n",
        "    silhouette_avg = silhouette_score(X, clusters)\n",
        "    results.append(('Agglomerative', n_clusters, silhouette_avg))\n",
        "\n",
        "  # DBSCAN -> eps = distância máxima entre os pontos\n",
        "  eps_values = np.arange(0.1, 0.9, 0.1)\n",
        "  for eps in eps_values:\n",
        "    dbscan = DBSCAN(eps=eps, min_samples=5)\n",
        "    clusters = dbscan.fit_predict(X)\n",
        "    if len(set(clusters)) > 1:\n",
        "      silhouette_avg = silhouette_score(X, clusters)\n",
        "      results.append(('DBSCAN', eps, silhouette_avg))\n",
        "\n",
        "\n",
        "  return results\n"
      ],
      "metadata": {
        "id": "Adi7ldN3fiR8"
      },
      "execution_count": null,
      "outputs": []
    },
    {
      "cell_type": "code",
      "source": [
        "iris = datasets.load_iris()\n",
        "scaler = StandardScaler()\n",
        "scaled_data = scaler.fit_transform(iris.data)\n",
        "\n",
        "results = compare_algorithms(scaled_data, 10)\n",
        "\n",
        "# CRIANDO UM DATAFRAME PRA VISUALIZAR MELHOR OS RESULTADOS\n",
        "df = pd.DataFrame(results, columns=['Agrupador', 'Clusters', 'Score'])\n",
        "df"
      ],
      "metadata": {
        "id": "S0g319PbkPAv"
      },
      "execution_count": null,
      "outputs": []
    },
    {
      "cell_type": "code",
      "source": [
        "# BUSCANDO O AGRUPADOR COM O MAIOR SCORE\n",
        "max_score_index = df['Score'].idxmax()\n",
        "df.loc[max_score_index]"
      ],
      "metadata": {
        "id": "aN9UbYGGmUta"
      },
      "execution_count": null,
      "outputs": []
    }
  ]
}