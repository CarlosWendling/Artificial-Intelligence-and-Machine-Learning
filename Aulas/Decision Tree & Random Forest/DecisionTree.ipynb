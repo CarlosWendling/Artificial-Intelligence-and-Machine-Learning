{
  "nbformat": 4,
  "nbformat_minor": 0,
  "metadata": {
    "colab": {
      "provenance": []
    },
    "kernelspec": {
      "name": "python3",
      "display_name": "Python 3"
    },
    "language_info": {
      "name": "python"
    }
  },
  "cells": [
    {
      "cell_type": "code",
      "execution_count": null,
      "metadata": {
        "id": "i3ApxVnEohjD"
      },
      "outputs": [],
      "source": [
        "import pandas as pd\n",
        "from sklearn.model_selection import train_test_split\n",
        "from sklearn.tree import DecisionTreeClassifier\n",
        "from sklearn.preprocessing import LabelEncoder\n",
        "from sklearn.metrics import accuracy_score, precision_score, recall_score, f1_score, classification_report\n",
        "from sklearn.tree import export_graphviz\n",
        "import graphviz"
      ]
    },
    {
      "cell_type": "code",
      "source": [
        "base = pd.read_csv('insurance.csv')\n",
        "base"
      ],
      "metadata": {
        "id": "uZtmKAKfpIur"
      },
      "execution_count": null,
      "outputs": []
    },
    {
      "cell_type": "code",
      "source": [
        "base = base.dropna()"
      ],
      "metadata": {
        "id": "E-iFkidepZor"
      },
      "execution_count": null,
      "outputs": []
    },
    {
      "cell_type": "code",
      "source": [
        "base = base.drop(columns = ['Unnamed: 0'])\n",
        "base"
      ],
      "metadata": {
        "id": "G_QATqEqplmA"
      },
      "execution_count": null,
      "outputs": []
    },
    {
      "cell_type": "code",
      "source": [
        "y = base.iloc[:,7].values\n",
        "X = base.iloc[:, [0, 1, 2, 3, 4, 5, 6, 8, 9, 10, 11, 12, 13, 14, 15, 16, 17, 18, 19, 20, 21, 22, 23, 24, 25, 26]].values"
      ],
      "metadata": {
        "id": "e6lmZ9NSpqXx"
      },
      "execution_count": null,
      "outputs": []
    },
    {
      "cell_type": "code",
      "source": [
        "labelencoder = LabelEncoder()"
      ],
      "metadata": {
        "id": "rdTeSma6pxXB"
      },
      "execution_count": null,
      "outputs": []
    },
    {
      "cell_type": "code",
      "source": [
        "for i in range(X.shape[1]):\n",
        "    if X[:, i].dtype == 'object':\n",
        "      X[:, i] = labelencoder.fit_transform(X[:, i])"
      ],
      "metadata": {
        "id": "981Fl3hEpyVn"
      },
      "execution_count": null,
      "outputs": []
    },
    {
      "cell_type": "code",
      "source": [
        "X_treinamento, X_teste, y_treinamento, y_teste = train_test_split(X, y, test_size=0.3, random_state=1)"
      ],
      "metadata": {
        "id": "3VBnR3xBp7ZR"
      },
      "execution_count": null,
      "outputs": []
    },
    {
      "cell_type": "code",
      "source": [
        "# CRIANDO O MODELO E PODANDO ELE COM HIPERPARÂMETROS\n",
        "# modelo = DecisionTreeClassifier(random_state=1)\n",
        "# AC = 81\n",
        "\n",
        "# modelo = DecisionTreeClassifier(random_state=1, max_depth=8)\n",
        "# AC = 85\n",
        "\n",
        "modelo = DecisionTreeClassifier(random_state=1, max_depth=8, max_leaf_nodes=8)\n",
        "# AC = 86\n",
        "modelo.fit(X_treinamento, y_treinamento)"
      ],
      "metadata": {
        "id": "cnvC7vZZp9e4"
      },
      "execution_count": null,
      "outputs": []
    },
    {
      "cell_type": "code",
      "source": [
        "# VISUALIZAÇÃO DA ÁRVORE DE DECISÃO\n",
        "dot_data = export_graphviz(modelo, out_file=None, filled=True, feature_names=base.columns[:-1], class_names=True, rounded=True)\n",
        "\n",
        "graph = graphviz.Source(dot_data)\n",
        "graph.render(\"decision_tree\", format=\"jpg\")"
      ],
      "metadata": {
        "id": "PnaxwIubrEph"
      },
      "execution_count": null,
      "outputs": []
    },
    {
      "cell_type": "code",
      "source": [
        "previsoes = modelo.predict(X_teste)\n",
        "previsoes"
      ],
      "metadata": {
        "id": "kKGVCyC-qUDL"
      },
      "execution_count": null,
      "outputs": []
    },
    {
      "cell_type": "code",
      "source": [
        "# TESTAR A MÉTRICA DE ACURÁCIA DO MODELO\n",
        "accuracy = accuracy_score(y_teste, previsoes)\n",
        "# TESTAR A MÉTRICA DE PRECISÃO\n",
        "precision = precision_score(y_teste, previsoes, average='weighted')\n",
        "# TESTAR A MÉTRICA DE RECALL\n",
        "recall = recall_score(y_teste, previsoes, average='weighted')\n",
        "# TESTAR A MÉTRICA DE F1\n",
        "f1 = f1_score(y_teste, previsoes, average='weighted')\n",
        "\n",
        "print(f'Acurácia: {accuracy}, Precisão: {precision}, Recall: {recall}, F1: {f1}')"
      ],
      "metadata": {
        "id": "WEykT5OYqfs9"
      },
      "execution_count": null,
      "outputs": []
    },
    {
      "cell_type": "code",
      "source": [
        "report = classification_report(y_teste, previsoes)\n",
        "print(report)"
      ],
      "metadata": {
        "id": "LnZe2r1xqtT1"
      },
      "execution_count": null,
      "outputs": []
    }
  ]
}