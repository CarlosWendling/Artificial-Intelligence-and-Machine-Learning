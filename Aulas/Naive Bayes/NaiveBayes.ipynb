{
  "nbformat": 4,
  "nbformat_minor": 0,
  "metadata": {
    "colab": {
      "provenance": []
    },
    "kernelspec": {
      "name": "python3",
      "display_name": "Python 3"
    },
    "language_info": {
      "name": "python"
    }
  },
  "cells": [
    {
      "cell_type": "code",
      "execution_count": null,
      "metadata": {
        "id": "dpuBNr3laYW1"
      },
      "outputs": [],
      "source": [
        "import pandas as pd\n",
        "from sklearn.model_selection import train_test_split\n",
        "from sklearn.naive_bayes import GaussianNB\n",
        "from sklearn.preprocessing import LabelEncoder\n",
        "from sklearn.metrics import accuracy_score, precision_score, recall_score, f1_score, classification_report\n",
        "from yellowbrick.classifier import ConfusionMatrix"
      ]
    },
    {
      "cell_type": "code",
      "source": [
        "base = pd.read_csv('insurance.csv')\n",
        "base"
      ],
      "metadata": {
        "id": "mZLd6Sspb1T0"
      },
      "execution_count": null,
      "outputs": []
    },
    {
      "cell_type": "code",
      "source": [
        "base = base.drop(columns = ['Unnamed: 0'])\n",
        "base"
      ],
      "metadata": {
        "id": "wxIqSHnNcaOh"
      },
      "execution_count": null,
      "outputs": []
    },
    {
      "cell_type": "code",
      "source": [
        "base= base.dropna()\n",
        "base"
      ],
      "metadata": {
        "id": "SeDGS_LdmJTc"
      },
      "execution_count": null,
      "outputs": []
    },
    {
      "cell_type": "code",
      "source": [
        "base.shape"
      ],
      "metadata": {
        "id": "owAZgNG4c1Ag"
      },
      "execution_count": null,
      "outputs": []
    },
    {
      "cell_type": "code",
      "source": [
        "# SEPARANDO A CLASSE DAS DEMAIS VARIÁVEIS\n",
        "y = base.iloc[:,7].values\n",
        "X = base.iloc[:, [0, 1, 2, 3, 4, 5, 6, 8, 9, 10, 11, 12, 13, 14, 15, 16, 17, 18, 19, 20, 21, 22, 23, 24, 25, 26]].values"
      ],
      "metadata": {
        "id": "duXv5UB-c4Dy"
      },
      "execution_count": null,
      "outputs": []
    },
    {
      "cell_type": "code",
      "source": [
        "# USAR ESSE OBJETO PARA TRANSFORMAR OS DADOS CATEGÓRICOS EM NUMÉRICOS\n",
        "labelencoder = LabelEncoder()"
      ],
      "metadata": {
        "id": "1C4beIgydvnP"
      },
      "execution_count": null,
      "outputs": []
    },
    {
      "cell_type": "code",
      "source": [
        "# LAÇO PARA PERCORRER O NÚMERO DE COLUNAS DE X\n",
        "for i in range(X.shape[1]):\n",
        "    if X[:, i].dtype == 'object':\n",
        "      X[:, i] = labelencoder.fit_transform(X[:, i])"
      ],
      "metadata": {
        "id": "EzMn0pOtev62"
      },
      "execution_count": null,
      "outputs": []
    },
    {
      "cell_type": "code",
      "source": [
        "X"
      ],
      "metadata": {
        "id": "MdQHAXM5gGRX"
      },
      "execution_count": null,
      "outputs": []
    },
    {
      "cell_type": "code",
      "source": [
        "# DIVIDINDO OS DADOS PARA TREINO E TESTE\n",
        "X_treinamento, X_teste, y_treinamento, y_teste = train_test_split(X, y, test_size=0.3, random_state=1)"
      ],
      "metadata": {
        "id": "4f-BaxY6gNyn"
      },
      "execution_count": null,
      "outputs": []
    },
    {
      "cell_type": "code",
      "source": [
        "# CRIANDO O MODELO\n",
        "modelo = GaussianNB()\n",
        "#TREINANDO O MODELO\n",
        "modelo.fit(X_treinamento, y_treinamento)"
      ],
      "metadata": {
        "id": "W5DY9BuhhZz3"
      },
      "execution_count": null,
      "outputs": []
    },
    {
      "cell_type": "code",
      "source": [
        "# FAZENDO PREVISÕES\n",
        "previsoes = modelo.predict(X_teste)"
      ],
      "metadata": {
        "id": "ZR1mg0hnmnjN"
      },
      "execution_count": null,
      "outputs": []
    },
    {
      "cell_type": "code",
      "source": [
        "previsoes"
      ],
      "metadata": {
        "id": "qSxP98hVmx88"
      },
      "execution_count": null,
      "outputs": []
    },
    {
      "cell_type": "code",
      "source": [
        "# TESTAR A MÉTRICA DE ACURÁCIA DO MODELO\n",
        "accuracy = accuracy_score(y_teste, previsoes)\n",
        "# TESTAR A MÉTRICA DE PRECISÃO\n",
        "precision = precision_score(y_teste, previsoes, average='weighted')\n",
        "# TESTAR A MÉTRICA DE RECALL\n",
        "recall = recall_score(y_teste, previsoes, average='weighted')\n",
        "# TESTAR A MÉTRICA DE F1\n",
        "f1 = f1_score(y_teste, previsoes, average='weighted')\n",
        "\n",
        "print(f'Acurácia: {accuracy}, Precisão: {precision}, Recall: {recall}, F1: {f1}')"
      ],
      "metadata": {
        "id": "mWfihw8onCQO"
      },
      "execution_count": null,
      "outputs": []
    },
    {
      "cell_type": "code",
      "source": [
        "report = classification_report(y_teste, previsoes)\n",
        "print(report)"
      ],
      "metadata": {
        "id": "qVceWb1kqq7H"
      },
      "execution_count": null,
      "outputs": []
    },
    {
      "cell_type": "code",
      "source": [
        "# CRIANDO UMA MATRIZ DE CONFUSÃO\n",
        "confusao = ConfusionMatrix(modelo, classes=['Mild', 'Moderate', 'Severe'])\n",
        "confusao.fit(X_treinamento, y_treinamento)\n",
        "confusao.score(X_teste, y_teste)\n",
        "confusao.poof()"
      ],
      "metadata": {
        "id": "MRL2O0qIq5Ta"
      },
      "execution_count": null,
      "outputs": []
    }
  ]
}