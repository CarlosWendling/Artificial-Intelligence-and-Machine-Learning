{
  "nbformat": 4,
  "nbformat_minor": 0,
  "metadata": {
    "colab": {
      "provenance": []
    },
    "kernelspec": {
      "name": "python3",
      "display_name": "Python 3"
    },
    "language_info": {
      "name": "python"
    }
  },
  "cells": [
    {
      "cell_type": "code",
      "execution_count": null,
      "metadata": {
        "id": "Gi1NuZKXl9Xy"
      },
      "outputs": [],
      "source": [
        "!pip install transformers"
      ]
    },
    {
      "cell_type": "code",
      "source": [
        "import transformers\n",
        "from transformers import pipeline"
      ],
      "metadata": {
        "id": "VMW_DOM4mJ2_"
      },
      "execution_count": null,
      "outputs": []
    },
    {
      "cell_type": "markdown",
      "source": [
        "# FillMask"
      ],
      "metadata": {
        "id": "ubtWwFz-nmhA"
      }
    },
    {
      "cell_type": "code",
      "source": [
        "mascarar = pipeline(\"fill-mask\", model=\"neuralmind/bert-base-portuguese-cased\")\n",
        "\n",
        "text = mascarar(\"Existe uma chance do corpo cair no [MASK]\")\n",
        "for x in range(len(text)):\n",
        "  print(text[x])"
      ],
      "metadata": {
        "id": "PfIP-BRLmSag"
      },
      "execution_count": null,
      "outputs": []
    },
    {
      "cell_type": "code",
      "source": [
        "text = mascarar([\"Existe uma chance do corpo cair no [MASK]\", \"Brasília é a capital do [MASK]\"])\n",
        "for x in range(len(text)):\n",
        "  print(text[x])"
      ],
      "metadata": {
        "id": "yJiHkUjjmLzv"
      },
      "execution_count": null,
      "outputs": []
    },
    {
      "cell_type": "markdown",
      "source": [
        "# Resumo"
      ],
      "metadata": {
        "id": "mhUj7fPOnxid"
      }
    },
    {
      "cell_type": "code",
      "source": [
        "resumir = pipeline(\"summarization\")"
      ],
      "metadata": {
        "id": "aWb_zP1Wn0Us"
      },
      "execution_count": null,
      "outputs": []
    },
    {
      "cell_type": "code",
      "source": [
        "text = \"\"\"Pink Floyd foi uma banda britânica de rock formada em Londres em 1965. Ganhando seguidores como um grupo de rock psicodélico, eles se destacaram por suas composições longas, pela experimentação sonora, pelas letras filosóficas e pelas apresentações ao vivo criativas, o que levou a se tornarem uma banda líder do gênero do rock progressivo. Eles são um dos grupos mais bem-sucedidos comercialmente e influentes da história da música popular.\"\"\""
      ],
      "metadata": {
        "id": "Lk6f57LpoJcz"
      },
      "execution_count": null,
      "outputs": []
    },
    {
      "cell_type": "code",
      "source": [
        "resumo = resumir(text, max_length=100, min_length=50)\n",
        "print(resumo)"
      ],
      "metadata": {
        "id": "IM040aQeoWtm"
      },
      "execution_count": null,
      "outputs": []
    },
    {
      "cell_type": "markdown",
      "source": [
        "# Geração de Texto"
      ],
      "metadata": {
        "id": "Lq2qWt1QowGO"
      }
    },
    {
      "cell_type": "code",
      "source": [
        "gerador = pipeline('text-generation', model=\"pierreguillou/gpt2-small-portuguese\")\n",
        "\n",
        "text = \"O DeepSeek, a nova IA chinesa, está causando um grande alvoroço no mundo da tecnologia\"\n",
        "resultado = gerador(text, max_length=100, do_sample=True, truncation=True)\n",
        "print(resultado)"
      ],
      "metadata": {
        "id": "F_AVSa4co1k1"
      },
      "execution_count": null,
      "outputs": []
    }
  ]
}