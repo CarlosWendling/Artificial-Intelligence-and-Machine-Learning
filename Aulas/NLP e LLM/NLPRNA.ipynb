{
  "nbformat": 4,
  "nbformat_minor": 0,
  "metadata": {
    "colab": {
      "provenance": []
    },
    "kernelspec": {
      "name": "python3",
      "display_name": "Python 3"
    },
    "language_info": {
      "name": "python"
    }
  },
  "cells": [
    {
      "cell_type": "code",
      "execution_count": null,
      "metadata": {
        "id": "DZmHbNzb3KV6"
      },
      "outputs": [],
      "source": [
        "import pandas as pd\n",
        "from sklearn.model_selection import train_test_split\n",
        "from sklearn.preprocessing import LabelEncoder\n",
        "from sklearn.metrics import confusion_matrix\n",
        "from keras.models import Sequential\n",
        "from keras.layers import Dense, Dropout, Flatten, Embedding\n",
        "from tensorflow.keras.preprocessing.text import Tokenizer\n",
        "from keras.utils import pad_sequences"
      ]
    },
    {
      "cell_type": "code",
      "source": [
        "spam = pd.read_csv('spam.csv')\n",
        "spam.head()"
      ],
      "metadata": {
        "id": "D1dnSwSv4O14"
      },
      "execution_count": null,
      "outputs": []
    },
    {
      "cell_type": "code",
      "source": [
        "spam.shape"
      ],
      "metadata": {
        "id": "rqPqyRk848mu"
      },
      "execution_count": null,
      "outputs": []
    },
    {
      "cell_type": "code",
      "source": [
        "# Codificando a 'Category'\n",
        "labelEncoder = LabelEncoder()\n",
        "y = labelEncoder.fit_transform(spam['Category'])\n",
        "print(y)"
      ],
      "metadata": {
        "id": "A--Ox0tj5Fvc"
      },
      "execution_count": null,
      "outputs": []
    },
    {
      "cell_type": "code",
      "source": [
        "mensagens = spam['Message'].values\n",
        "\n",
        "X_train, X_test, y_train, y_test = train_test_split(mensagens, y, test_size=0.3)"
      ],
      "metadata": {
        "id": "RS5Bvh7I56ss"
      },
      "execution_count": null,
      "outputs": []
    },
    {
      "cell_type": "code",
      "source": [
        "# Tokenização das mensagens\n",
        "token = Tokenizer(num_words=1000)\n",
        "token.fit_on_texts(X_train)\n",
        "token.fit_on_texts(X_test)\n",
        "X_train = token.texts_to_sequences(X_train)\n",
        "X_test = token.texts_to_sequences(X_test)"
      ],
      "metadata": {
        "id": "v87f_8fc6U26"
      },
      "execution_count": null,
      "outputs": []
    },
    {
      "cell_type": "code",
      "source": [
        "# Vai mostrar uma lista de listas, em que cada uma das listas internas é uma sentença, em que cada número dela é uma palavra\n",
        "print(X_train)"
      ],
      "metadata": {
        "id": "Liq2jdkj7yjY"
      },
      "execution_count": null,
      "outputs": []
    },
    {
      "cell_type": "code",
      "source": [
        "# Precisamos deixar todas as listas com o mesmo tamanho\n",
        "X_train = pad_sequences(X_train, padding=\"post\", maxlen=500)\n",
        "X_test = pad_sequences(X_test, padding=\"post\", maxlen=500)"
      ],
      "metadata": {
        "id": "4AjjY0cg8Vt6"
      },
      "execution_count": null,
      "outputs": []
    },
    {
      "cell_type": "code",
      "source": [
        "# Verificando o tamnaho do vocabulário\n",
        "len(token.word_index)"
      ],
      "metadata": {
        "id": "yBxhF9Yo9moG"
      },
      "execution_count": null,
      "outputs": []
    },
    {
      "cell_type": "code",
      "source": [
        "X_train"
      ],
      "metadata": {
        "id": "doGxphcP8_xF"
      },
      "execution_count": null,
      "outputs": []
    },
    {
      "cell_type": "code",
      "source": [
        "# Criando o modelo de RNA e aplicando o Word Embedding\n",
        "modelo = Sequential()\n",
        "modelo.add(Embedding(input_dim=len(token.word_index),output_dim=50,input_length=500))\n",
        "modelo.add(Flatten())\n",
        "modelo.add(Dense(units=10, activation=\"relu\"))\n",
        "modelo.add(Dropout(0.1))\n",
        "modelo.add(Dense(units=1, activation='sigmoid'))"
      ],
      "metadata": {
        "id": "KlCtNi3C9HNP"
      },
      "execution_count": null,
      "outputs": []
    },
    {
      "cell_type": "code",
      "source": [
        "modelo.compile(loss=\"mean_squared_error\", optimizer=\"adam\", metrics=[\"accuracy\"])"
      ],
      "metadata": {
        "id": "FZsVQdz1-q1q"
      },
      "execution_count": null,
      "outputs": []
    },
    {
      "cell_type": "code",
      "source": [
        "modelo.summary()"
      ],
      "metadata": {
        "id": "O5KAEOve_5dO"
      },
      "execution_count": null,
      "outputs": []
    },
    {
      "cell_type": "code",
      "source": [
        "modelo.fit(X_train, y_train, epochs=20, batch_size=10, verbose=True, validation_data=(X_test, y_test))"
      ],
      "metadata": {
        "id": "YNE0Tf6J_7Zc"
      },
      "execution_count": null,
      "outputs": []
    },
    {
      "cell_type": "code",
      "source": [
        "loss, accuracy = modelo.evaluate(X_test, y_test)\n",
        "print(\"Loss: \", loss)\n",
        "print(\"Acurácia: \", accuracy)"
      ],
      "metadata": {
        "id": "lWVm2EUcD63o"
      },
      "execution_count": null,
      "outputs": []
    },
    {
      "cell_type": "code",
      "source": [
        "nova_previsao = modelo.predict(X_test)\n",
        "print(nova_previsao)"
      ],
      "metadata": {
        "id": "k0KFAhTPFIQ1"
      },
      "execution_count": null,
      "outputs": []
    },
    {
      "cell_type": "code",
      "source": [
        "prev = (nova_previsao > 0.5)\n",
        "print(prev)"
      ],
      "metadata": {
        "id": "15hZyLD2FTBa"
      },
      "execution_count": null,
      "outputs": []
    },
    {
      "cell_type": "code",
      "source": [
        "# Não vai gerar uma CM válida porque o modelo não foi criado de forma correta, sendo possível ver na tabela de Summary, que mostra que não há parâmetros nas camadas do modelo\n",
        "cm = confusion_matrix(y_test, prev)\n",
        "print(cm)"
      ],
      "metadata": {
        "id": "Qy6anXUMFate"
      },
      "execution_count": null,
      "outputs": []
    }
  ]
}