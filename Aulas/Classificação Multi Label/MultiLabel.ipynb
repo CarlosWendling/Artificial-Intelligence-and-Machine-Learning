{
  "nbformat": 4,
  "nbformat_minor": 0,
  "metadata": {
    "colab": {
      "provenance": []
    },
    "kernelspec": {
      "name": "python3",
      "display_name": "Python 3"
    },
    "language_info": {
      "name": "python"
    }
  },
  "cells": [
    {
      "cell_type": "code",
      "execution_count": null,
      "metadata": {
        "id": "sQLxPRQrrfzw"
      },
      "outputs": [],
      "source": [
        "!pip install scikit-multilearn"
      ]
    },
    {
      "cell_type": "code",
      "source": [
        "# ALGORITMO ADAPTADO PARA PROBLEMAS MULTI LABEL\n",
        "from skmultilearn.adapt import MLARAM\n",
        "\n",
        "# LIBS PARA TRANSFORMAÇÃO DOS DADOS PARA UM FORMATO ADEQUADO\n",
        "from skmultilearn.problem_transform import BinaryRelevance, ClassifierChain, LabelPowerset\n",
        "# ALGORITMO PARA OS DADOS TRANSFORMADOS\n",
        "from sklearn.svm import SVC\n",
        "\n",
        "from sklearn.model_selection import train_test_split\n",
        "from sklearn.metrics import hamming_loss\n",
        "import pandas as pd"
      ],
      "metadata": {
        "id": "SPg8hsTsroIS"
      },
      "execution_count": null,
      "outputs": []
    },
    {
      "cell_type": "code",
      "source": [
        "musica = pd.read_csv('Musica.csv')\n",
        "musica.shape"
      ],
      "metadata": {
        "id": "lW0F-QZys0P2"
      },
      "execution_count": null,
      "outputs": []
    },
    {
      "cell_type": "code",
      "source": [
        "musica.head()"
      ],
      "metadata": {
        "id": "V_lm7sEBtX8s"
      },
      "execution_count": null,
      "outputs": []
    },
    {
      "cell_type": "code",
      "source": [
        "# SEPARANDO AS CLASSES DOS PREVISORES\n",
        "classe = musica.iloc[:, 0:6].values\n",
        "previsores = musica.iloc[:,7:78].values"
      ],
      "metadata": {
        "id": "4Bo2suENtfUD"
      },
      "execution_count": null,
      "outputs": []
    },
    {
      "cell_type": "code",
      "source": [
        "classe"
      ],
      "metadata": {
        "id": "NphlsAmuuKyT"
      },
      "execution_count": null,
      "outputs": []
    },
    {
      "cell_type": "code",
      "source": [
        "X_treinamento, X_teste, y_treinamento, y_teste = train_test_split(previsores, classe, test_size=0.3, random_state=0)"
      ],
      "metadata": {
        "id": "a9PxY4ceuTdy"
      },
      "execution_count": null,
      "outputs": []
    },
    {
      "cell_type": "code",
      "source": [
        "# MLARAM NÃO ESTÁ FUNCIONANDO\n",
        "#ann = MLARAM()\n",
        "#ann.fit(X_treinamento, y_treinamento)"
      ],
      "metadata": {
        "id": "P0J-n6navSZc"
      },
      "execution_count": null,
      "outputs": []
    },
    {
      "cell_type": "code",
      "source": [
        "# TRANSFORMANDO O PROBLEMA PARA ELE FICAR ADAPTADO AO ALGORITMO -> BINARY RELEVANCE\n",
        "binary = BinaryRelevance(classifier=SVC())\n",
        "binary.fit(X_treinamento, y_treinamento)\n",
        "previsao = binary.predict(X_teste)\n",
        "print(hamming_loss(y_teste, previsao))"
      ],
      "metadata": {
        "id": "N1-IG0Ie38qj"
      },
      "execution_count": null,
      "outputs": []
    },
    {
      "cell_type": "code",
      "source": [
        "# CLASSIFIER CHAIN\n",
        "chain = ClassifierChain(classifier=SVC())\n",
        "chain.fit(X_treinamento, y_treinamento)\n",
        "previsao = chain.predict(X_teste)\n",
        "print(hamming_loss(y_teste, previsao))"
      ],
      "metadata": {
        "id": "_Km_nYiv4ygl"
      },
      "execution_count": null,
      "outputs": []
    },
    {
      "cell_type": "code",
      "source": [
        "# LABEL POWERSET\n",
        "label = LabelPowerset(classifier=SVC())\n",
        "label.fit(X_treinamento, y_treinamento)\n",
        "previsao = label.predict(X_teste)\n",
        "print(hamming_loss(y_teste, previsao))"
      ],
      "metadata": {
        "id": "_Ezu50f-5u60"
      },
      "execution_count": null,
      "outputs": []
    }
  ]
}