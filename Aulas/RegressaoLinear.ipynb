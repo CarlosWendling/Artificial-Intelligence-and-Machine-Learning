{
  "cells": [
    {
      "cell_type": "code",
      "execution_count": null,
      "metadata": {
        "id": "TH3G5EOO-r8F"
      },
      "outputs": [],
      "source": [
        "from numpy import *\n",
        "\n",
        "class LinearRegression:\n",
        "    def __init__(self, x, y):\n",
        "      self.x = x\n",
        "      self.y = y\n",
        "      # MÉTODOS __PRIVADOS\n",
        "      self.__correlation_coefficient = self.__correlacao()\n",
        "      self.__inclination = self.__inclinacao()\n",
        "      self.__intercept = self.__interceptacao()\n",
        "\n",
        "    def __correlacao(self):\n",
        "      # O 'COV' RETORNA UMA MATRIZ\n",
        "      covariacao = cov(self.x, self.y, bias=True)[0][1]\n",
        "      variancia_x = var(self.x)\n",
        "      variancia_y = var(self.y)\n",
        "\n",
        "      return covariacao / sqrt(variancia_x * variancia_y)\n",
        "\n",
        "\n",
        "    def __inclinacao(self):\n",
        "      stdx = std(self.x)\n",
        "      stdy = std(self.y)\n",
        "\n",
        "      return self.__correlation_coefficient * (stdy / stdx)\n",
        "\n",
        "\n",
        "    def __interceptacao(self):\n",
        "      mediax = mean(self.x)\n",
        "      mediay = mean(self.y)\n",
        "\n",
        "      return mediay - mediax * self.__inclination\n",
        "\n",
        "\n",
        "    def previsao(self, valor):\n",
        "      return self.__intercept + (self.__inclination * valor)"
      ]
    },
    {
      "cell_type": "code",
      "execution_count": null,
      "metadata": {
        "colab": {
          "base_uri": "https://localhost:8080/"
        },
        "id": "QIeDcDpSCqpV",
        "outputId": "7d6f5fbc-8d5c-448f-fd8b-37e5afc7d35d"
      },
      "outputs": [],
      "source": [
        "# VAR INDEPENDENTE\n",
        "x = array([1, 2, 3, 4, 5])\n",
        "# VAR DEPENDENTE (É A QUE EU QUERO DESCOBRIR)\n",
        "y = array([2, 4, 6, 8, 10])\n",
        "\n",
        "lr = LinearRegression(x, y)\n",
        "# X = 6, QUAL SERÁ O VALOR DE 'Y'?\n",
        "previsao = lr.previsao(6)\n",
        "print(previsao)"
      ]
    }
  ],
  "metadata": {
    "colab": {
      "provenance": [],
      "toc_visible": true
    },
    "kernelspec": {
      "display_name": "Python 3",
      "name": "python3"
    },
    "language_info": {
      "name": "python"
    }
  },
  "nbformat": 4,
  "nbformat_minor": 0
}
