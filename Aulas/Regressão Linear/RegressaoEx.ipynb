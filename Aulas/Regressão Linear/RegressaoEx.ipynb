{
  "cells": [
    {
      "cell_type": "code",
      "execution_count": null,
      "metadata": {
        "id": "z4BheFDSS1gj"
      },
      "outputs": [],
      "source": [
        "# FORA DO GOOGLE COLAB EU PRECISO INSTALAR ESSAS LIBS \n",
        "import pandas as pd\n",
        "import numpy as np\n",
        "import matplotlib.pyplot as plt\n",
        "import statsmodels.formula.api as sm\n",
        "import scipy.stats as stats\n",
        "import seaborn as sns"
      ]
    },
    {
      "cell_type": "code",
      "execution_count": null,
      "metadata": {
        "id": "HXJJBFXNUFR1"
      },
      "outputs": [],
      "source": [
        "base = pd.read_csv('mt_cars.csv')\n",
        "base.shape"
      ]
    },
    {
      "cell_type": "code",
      "execution_count": null,
      "metadata": {
        "id": "SAhSaC8gUSQ8"
      },
      "outputs": [],
      "source": [
        "base.head()"
      ]
    },
    {
      "cell_type": "code",
      "execution_count": null,
      "metadata": {
        "id": "ahiV-B6aUnWn"
      },
      "outputs": [],
      "source": [
        "base = base.drop(['Unnamed: 0'], axis = 1)"
      ]
    },
    {
      "cell_type": "code",
      "execution_count": null,
      "metadata": {
        "id": "HtFy4sQQU1Hw"
      },
      "outputs": [],
      "source": [
        "# CRIANDO UM CORRELOGRAMA PARA VER AS CORRELAÇÕES DAS VARIÁVEIS\n",
        "corr = base.corr()\n",
        "sns.heatmap(corr, cmap='coolwarm', annot=False, fmt='.2f')"
      ]
    },
    {
      "cell_type": "code",
      "execution_count": null,
      "metadata": {
        "id": "Hj91-Op4WCGc"
      },
      "outputs": [],
      "source": [
        "# CRIANDO GRÁFICO DE DISPERSÃO PARA ANALISAR CADA VAR INDEPENDENTE COM A 'MPG', QUE É A VAR DEPENDENTE\n",
        "column_pairs = [('mpg', 'cyl'), ('mpg', 'disp'), ('mpg', 'hp'), ('mpg', 'wt'), ('mpg', 'drat'), ('mpg', 'vs')]\n",
        "n_plots = len(column_pairs)\n",
        "# AS FIGURAS E EIXOS QUE SERÃO RETORNADOS\n",
        "fig, axes = plt.subplots(nrows=n_plots, ncols=1, figsize=(6,4 * n_plots))\n",
        "\n",
        "# LAÇO PARA PERCORRER OS PARES E CRIAR O GRÁFICO\n",
        "for i, pair in enumerate(column_pairs):\n",
        "  x_col, y_col = pair\n",
        "  sns.scatterplot(x=x_col, y=y_col, data=base, ax=axes[i])\n",
        "  axes[i].set_title(f'{x_col} vs {y_col}')\n",
        "\n",
        "plt.tight_layout()\n",
        "plt.show()\n",
        "# O GRÁFICO MOSTRA A FORÇA DE CORRELAÇÃO ENTRE AS VARIÁVEIS"
      ]
    },
    {
      "cell_type": "code",
      "execution_count": null,
      "metadata": {
        "id": "EbiACBTWaOGd"
      },
      "outputs": [],
      "source": [
        "# CRIANDO O MODELO\n",
        "# aic 156.6 bic 162.5\n",
        "# modelo = sm.ols(formula='mpg ~ wt + disp + hp', data=base)\n",
        "\n",
        "# aic 165.1 bic 169.5\n",
        "# modelo = sm.ols(formula='mpg ~ disp + cyl', data=base)\n",
        "\n",
        "# aic 179.1 bic 183.5\n",
        "modelo = sm.ols(formula='mpg ~ drat + vs', data=base)\n",
        "modelo = modelo.fit()\n",
        "modelo.summary()"
      ]
    },
    {
      "cell_type": "code",
      "execution_count": null,
      "metadata": {
        "id": "XGgvLAuXcCiP"
      },
      "outputs": [],
      "source": [
        "# ANALISANDO OS RESIDUAIS\n",
        "residuos = modelo.resid\n",
        "plt.hist(residuos, bins=20)\n",
        "plt.xlabel(\"Residuos\")\n",
        "plt.ylabel(\"Frequencia\")\n",
        "plt.title(\"Histograma de Residuos\")\n",
        "plt.show()"
      ]
    },
    {
      "cell_type": "code",
      "execution_count": null,
      "metadata": {
        "id": "PWA-HLDxcsD_"
      },
      "outputs": [],
      "source": [
        "stats.probplot(residuos, dist=\"norm\", plot=plt)\n",
        "plt.title(\"Q-Q Plot de Residuos\")\n",
        "plt.show()"
      ]
    },
    {
      "cell_type": "code",
      "execution_count": null,
      "metadata": {
        "id": "X4Niv5tLdSm4"
      },
      "outputs": [],
      "source": [
        "# TESTE DE SHAPIRO\n",
        "stat, pval = stats.shapiro(residuos)\n",
        "print(f'Shapiro-Wilk statistica: {stat: .3f}, p-value: {pval: .3f}')\n",
        "# h0 - dados estão normalmente distribuídos\n",
        "# p <= 0.05 - rejeito a hipótese nula (não estão bem distribuídos)\n",
        "# p >0.05 - não é possível rejeitar a h0"
      ]
    }
  ],
  "metadata": {
    "colab": {
      "provenance": []
    },
    "kernelspec": {
      "display_name": "Python 3",
      "name": "python3"
    },
    "language_info": {
      "codemirror_mode": {
        "name": "ipython",
        "version": 3
      },
      "file_extension": ".py",
      "mimetype": "text/x-python",
      "name": "python",
      "nbconvert_exporter": "python",
      "pygments_lexer": "ipython3",
      "version": "3.12.5"
    }
  },
  "nbformat": 4,
  "nbformat_minor": 0
}
